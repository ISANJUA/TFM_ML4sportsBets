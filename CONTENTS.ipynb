{
 "cells": [
  {
   "cell_type": "markdown",
   "metadata": {},
   "source": [
    "# CONTENTS"
   ]
  },
  {
   "cell_type": "markdown",
   "metadata": {},
   "source": [
    "## 1. Introduction:\n",
    "\n",
    "    1.1. Objectivo of the project\n",
    "    1.2. Brief notions of tennis and betting\n"
   ]
  },
  {
   "cell_type": "markdown",
   "metadata": {},
   "source": [
    "## 2. The Data:\n",
    "\n",
    "    2.1. Origin of the data\n",
    "    2.2. Theorical Approach\n",
    "        2.2.1. Predictive Variable Analysis\n",
    "        2.2.2. Data Chalenge"
   ]
  },
  {
   "cell_type": "markdown",
   "metadata": {},
   "source": [
    "## 3. Feature Extraction, Transformation and Load:\n",
    "    3.1. Data quality: Nans, wrong data, etc.\n",
    "        3.1.1. Remove useless data\n",
    "        3.1.2. Complete/Settle data\n",
    "    3.2. Data Transformation\n",
    "    3.3. Data Analisis:\n",
    "        3.3.1. Feature distribution: Mean, Median and Standar Deviation"
   ]
  },
  {
   "cell_type": "markdown",
   "metadata": {},
   "source": [
    "## 4. Feature Engineering:\n",
    "    4.1. Feature functioning: winner data-loser data\n",
    "    4.2. Feature selection\n",
    "    4.3. New Feature creation\n",
    "    4.4. Feature standarization"
   ]
  },
  {
   "cell_type": "markdown",
   "metadata": {},
   "source": [
    "# 5. Modeling the data:\n",
    "    5.1. Base line model\n",
    "        5.1.1. Collinearity Analysis\n",
    "        5.2. Summarize of the models (Knime)\n",
    "    5.3. Logistic Regression\n",
    "        5.3.1. Backard Selection\n",
    "        5.3.2. Correlation Matrix\n",
    "        5.3.3. Dimensionality reduction\n",
    "    5.4. KNNeighbours\n",
    "    5.5. Support Vector Machine\n",
    "        5.5.1. Valuation: Roc Curve\n",
    "    5.6. Decision Trees\n",
    "        5.6.1. Visualization and Max. Depth"
   ]
  },
  {
   "cell_type": "markdown",
   "metadata": {},
   "source": [
    "# 6. Cross Validation\n",
    "    6.1. Cross-Validation\n",
    "    6.2. Bagging\n",
    "    6.3. Random Forest"
   ]
  },
  {
   "cell_type": "markdown",
   "metadata": {},
   "source": [
    "# 7. Combining models:\n",
    "    7.1. Voting Classifier"
   ]
  },
  {
   "cell_type": "markdown",
   "metadata": {},
   "source": [
    "# 8. Conclusions:"
   ]
  },
  {
   "cell_type": "markdown",
   "metadata": {},
   "source": [
    "# 9. Accuracy on 2017 dataset:\n",
    "    9.1. ETL\n",
    "    9.2. Data Transformation\n",
    "    9.3. Data Analysis\n",
    "    9.4. Modeling the data\n"
   ]
  }
 ],
 "metadata": {
  "anaconda-cloud": {},
  "kernelspec": {
   "display_name": "Python [default]",
   "language": "python",
   "name": "python2"
  },
  "language_info": {
   "codemirror_mode": {
    "name": "ipython",
    "version": 2
   },
   "file_extension": ".py",
   "mimetype": "text/x-python",
   "name": "python",
   "nbconvert_exporter": "python",
   "pygments_lexer": "ipython2",
   "version": "2.7.12"
  }
 },
 "nbformat": 4,
 "nbformat_minor": 2
}
