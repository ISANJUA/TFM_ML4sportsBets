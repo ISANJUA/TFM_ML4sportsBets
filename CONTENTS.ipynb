{
 "cells": [
  {
   "cell_type": "markdown",
   "metadata": {},
   "source": [
    "# CONTENTS"
   ]
  },
  {
   "cell_type": "markdown",
   "metadata": {},
   "source": [
    "## 1. Introduction:\n",
    "\n",
    "    1.1. Objective of the project\n",
    "    \n",
    "    1.2. Brief notions of tennis and betting\n"
   ]
  },
  {
   "cell_type": "markdown",
   "metadata": {},
   "source": [
    "## 2. Origin of the data:"
   ]
  },
  {
   "cell_type": "markdown",
   "metadata": {},
   "source": [
    "## 3. Feature Extraction, Transformation and Cleansing:\n",
    "    3.1. Data quality: Nans, wrong data, etc.\n",
    "        3.1.1. Remove useless data\n",
    "        3.2.2. Complete/Settle data\n",
    "    \n",
    "    3.2. Data Analisis:\n",
    "        3.2.1. Feature distribution: Mean, Median and Standar Deviation\n",
    "        3.2.2. Ouliers: Influence on distribution and information provided"
   ]
  },
  {
   "cell_type": "markdown",
   "metadata": {},
   "source": [
    "## 4. Feature Engineering:\n",
    "    4.1. Feature functioning: winner data-loser data\n",
    "    4.2. Feature selection\n",
    "    4.3. New Feature creation\n",
    "    4.4. Feature standarization"
   ]
  },
  {
   "cell_type": "markdown",
   "metadata": {},
   "source": [
    "# 5. Modeling the data:\n",
    "    5.1. Base line model\n",
    "        5.1.1. Model based on Rank\n",
    "    5.2. Summarize of the models (Knime)\n",
    "    5.3. Logistic Regression\n",
    "        5.3.1. Subset selection\n",
    "    5.4. Vector Support Machine\n",
    "        5.4.1. Valuation: Roc Curve\n",
    "    5.5. Naive Bayes Classifier\n",
    "    5.6. Neural Network\n",
    "    5.7. Decision Trees\n",
    "        5.7.1. Valuation: Roc Curve"
   ]
  },
  {
   "cell_type": "markdown",
   "metadata": {},
   "source": [
    "# 6. Cross Validation\n",
    "    6.1. Cross-Validation\n",
    "    6.2. Bagging\n",
    "    6.3. Boosting"
   ]
  },
  {
   "cell_type": "markdown",
   "metadata": {},
   "source": [
    "# 7. Best model Selection\n",
    "    7.1. By accuracy\n",
    "    7.2. By ROI\n",
    "        7.2.1. Changing the cost function"
   ]
  },
  {
   "cell_type": "markdown",
   "metadata": {},
   "source": [
    "# 8. Deteccion del Fraude\n",
    "    8.1. Clustering\n"
   ]
  },
  {
   "cell_type": "markdown",
   "metadata": {},
   "source": [
    "# 9. Conclusions"
   ]
  },
  {
   "cell_type": "code",
   "execution_count": null,
   "metadata": {
    "collapsed": true
   },
   "outputs": [],
   "source": []
  }
 ],
 "metadata": {
  "anaconda-cloud": {},
  "kernelspec": {
   "display_name": "Python [default]",
   "language": "python",
   "name": "python2"
  },
  "language_info": {
   "codemirror_mode": {
    "name": "ipython",
    "version": 2
   },
   "file_extension": ".py",
   "mimetype": "text/x-python",
   "name": "python",
   "nbconvert_exporter": "python",
   "pygments_lexer": "ipython2",
   "version": "2.7.12"
  }
 },
 "nbformat": 4,
 "nbformat_minor": 2
}
