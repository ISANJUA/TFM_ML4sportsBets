{
 "cells": [
  {
   "cell_type": "markdown",
   "metadata": {},
   "source": [
    "# 8. Accuracy best model on 2017 data:"
   ]
  },
  {
   "cell_type": "markdown",
   "metadata": {},
   "source": [
    "     Vamos a utilizar el modelo SVM optimizado en los datos de 2017."
   ]
  },
  {
   "cell_type": "code",
   "execution_count": 1,
   "metadata": {
    "collapsed": true
   },
   "outputs": [],
   "source": [
    "import pandas as pd\n",
    "import matplotlib.pyplot as plt\n",
    "import matplotlib\n",
    "import numpy as np\n",
    "import seaborn as sns\n",
    "%matplotlib inline\n",
    "matplotlib.style.use(\"ggplot\")"
   ]
  },
  {
   "cell_type": "code",
   "execution_count": 2,
   "metadata": {
    "collapsed": true
   },
   "outputs": [],
   "source": [
    "pd.set_option('display.max_columns', None)"
   ]
  },
  {
   "cell_type": "markdown",
   "metadata": {},
   "source": [
    "## 8.1. Lanzamos el proceso de limpieza generado anteriormente:"
   ]
  },
  {
   "cell_type": "markdown",
   "metadata": {},
   "source": [
    "### 1. File loading and examine:"
   ]
  },
  {
   "cell_type": "markdown",
   "metadata": {},
   "source": [
    "     Vamos a utilizar los data sets del año 2017. Suprimimos todos los comentarios sobre el proceso al ser una replica exacta del creado anteriormente."
   ]
  },
  {
   "cell_type": "code",
   "execution_count": 91,
   "metadata": {
    "collapsed": true
   },
   "outputs": [],
   "source": [
    "frame = pd.read_csv('../tennis_atp-master/atp_matches_2017.csv')"
   ]
  },
  {
   "cell_type": "code",
   "execution_count": 92,
   "metadata": {
    "collapsed": true
   },
   "outputs": [],
   "source": [
    "# 1. Take out matchs from Davies Cup:\n",
    "framesD = frame[frame['tourney_level'] != 'D']\n",
    "# 2. Take out matchs from Challenge CUP:\n",
    "framesDC = framesD[framesD['tourney_level'] != 'C']\n",
    "# 3.1. Take out marchs'W/O' (Walk Over):\n",
    "framesDCWO = framesDC[framesDC['score'] != 'W/O']\n",
    "# 3.2. Take out marchs' W/O' (Walk Over):\n",
    "framesDCWO = framesDCWO[framesDCWO['score'] != ' W/O']\n",
    "# 4. Take out matchs with high volume of NaNs:\n",
    "framesDCWO2 = framesDCWO.dropna(axis=0, thresh=30)"
   ]
  },
  {
   "cell_type": "code",
   "execution_count": 93,
   "metadata": {},
   "outputs": [
    {
     "name": "stdout",
     "output_type": "stream",
     "text": [
      "    Hemos eliminado 127 partidos sobre un total de 388, lo que supone un 0.327320 \n"
     ]
    }
   ],
   "source": [
    "x = frame.shape\n",
    "y = framesDCWO2.shape\n",
    "Limpieza = x[0] - y[0]\n",
    "Limpieza2 = (float(Limpieza) / float(x[0]))\n",
    "print \"    Hemos eliminado %d partidos sobre un total de %d, lo que supone un %f \" %((Limpieza), x[0], (Limpieza2))\n"
   ]
  },
  {
   "cell_type": "code",
   "execution_count": 94,
   "metadata": {},
   "outputs": [
    {
     "name": "stderr",
     "output_type": "stream",
     "text": [
      "/Users/NachoSJ/anaconda/lib/python2.7/site-packages/ipykernel/__main__.py:2: SettingWithCopyWarning: \n",
      "A value is trying to be set on a copy of a slice from a DataFrame\n",
      "\n",
      "See the caveats in the documentation: http://pandas.pydata.org/pandas-docs/stable/indexing.html#indexing-view-versus-copy\n",
      "  from ipykernel import kernelapp as app\n",
      "/Users/NachoSJ/anaconda/lib/python2.7/site-packages/ipykernel/__main__.py:3: SettingWithCopyWarning: \n",
      "A value is trying to be set on a copy of a slice from a DataFrame.\n",
      "Try using .loc[row_indexer,col_indexer] = value instead\n",
      "\n",
      "See the caveats in the documentation: http://pandas.pydata.org/pandas-docs/stable/indexing.html#indexing-view-versus-copy\n",
      "  app.launch_new_instance()\n"
     ]
    },
    {
     "data": {
      "text/plain": [
       "(261, 46)"
      ]
     },
     "execution_count": 94,
     "metadata": {},
     "output_type": "execute_result"
    }
   ],
   "source": [
    "columns = ['winner_seed', 'loser_seed', 'winner_entry', 'loser_entry']\n",
    "framesDCWO2.drop(columns, inplace=True, axis=1) \n",
    "framesDCWO2['TotalGames'] = framesDCWO2['w_SvGms'] + framesDCWO2['l_SvGms']\n",
    "framesDCWO2.shape"
   ]
  },
  {
   "cell_type": "markdown",
   "metadata": {},
   "source": [
    "### 2. New Feature creation: Retired."
   ]
  },
  {
   "cell_type": "code",
   "execution_count": 95,
   "metadata": {},
   "outputs": [
    {
     "name": "stderr",
     "output_type": "stream",
     "text": [
      "/Users/NachoSJ/anaconda/lib/python2.7/site-packages/ipykernel/__main__.py:10: SettingWithCopyWarning: \n",
      "A value is trying to be set on a copy of a slice from a DataFrame.\n",
      "Try using .loc[row_indexer,col_indexer] = value instead\n",
      "\n",
      "See the caveats in the documentation: http://pandas.pydata.org/pandas-docs/stable/indexing.html#indexing-view-versus-copy\n"
     ]
    }
   ],
   "source": [
    "Retired = []\n",
    "for row in framesDCWO2['score']:\n",
    "    if 'RET' in row:\n",
    "        # Append 1\n",
    "        Retired.append(1)\n",
    "    # else, if not append 0,\n",
    "    else:\n",
    "        Retired.append(0)\n",
    "# Create a column from the list\n",
    "framesDCWO2['Retired'] = Retired"
   ]
  },
  {
   "cell_type": "code",
   "execution_count": 96,
   "metadata": {},
   "outputs": [
    {
     "data": {
      "text/plain": [
       "(9, 47)"
      ]
     },
     "execution_count": 96,
     "metadata": {},
     "output_type": "execute_result"
    }
   ],
   "source": [
    "Ret = framesDCWO2[framesDCWO2['Retired'] == 1 ]\n",
    "Ret.shape"
   ]
  },
  {
   "cell_type": "code",
   "execution_count": 97,
   "metadata": {},
   "outputs": [
    {
     "name": "stdout",
     "output_type": "stream",
     "text": [
      "     El data set tiene 9 partidos no terminados por Retired sobre un total de 261,\n",
      "   lo que supone un 0.034483\n"
     ]
    }
   ],
   "source": [
    "print \"\"\"     El data set tiene %d partidos no terminados por Retired sobre un total de %d,\n",
    "   lo que supone un %f\"\"\" %(len(Ret.index),len(framesDCWO2.index), (float(len(Ret.index))/float(len(framesDCWO2.index))))"
   ]
  },
  {
   "cell_type": "markdown",
   "metadata": {},
   "source": [
    "     El porcentaje de retired es similar al obtenido en el data set de 2000 a 2016"
   ]
  },
  {
   "cell_type": "code",
   "execution_count": 98,
   "metadata": {
    "scrolled": true
   },
   "outputs": [
    {
     "data": {
      "text/plain": [
       "(252, 47)"
      ]
     },
     "execution_count": 98,
     "metadata": {},
     "output_type": "execute_result"
    }
   ],
   "source": [
    "framesDCWO2 = framesDCWO2[framesDCWO2['Retired'] != 1]\n",
    "framesDCWO2.shape"
   ]
  },
  {
   "cell_type": "markdown",
   "metadata": {},
   "source": [
    "### 3. New feature creation: Hand (1 - Right hand, 0 - Left Hand)"
   ]
  },
  {
   "cell_type": "code",
   "execution_count": 99,
   "metadata": {
    "collapsed": true
   },
   "outputs": [],
   "source": [
    "Hand = {'R': 1,'L': 0}\n",
    "framesDCWO2[\"w_hand\"] = np.nan\n",
    "framesDCWO2[\"l_hand\"] = np.nan\n",
    "framesDCWO2['w_hand'] = framesDCWO2['w_hand'].fillna(framesDCWO2['winner_hand'].map(Hand))\n",
    "framesDCWO2['l_hand'] = framesDCWO2['l_hand'].fillna(framesDCWO2['loser_hand'].map(Hand))"
   ]
  },
  {
   "cell_type": "markdown",
   "metadata": {},
   "source": [
    "### 4. New feature creation: Best of (1 - 3 sets, 0 - 5 sets)"
   ]
  },
  {
   "cell_type": "code",
   "execution_count": 100,
   "metadata": {
    "collapsed": true
   },
   "outputs": [],
   "source": [
    "Sets = {'5': 1,'3': 0}\n",
    "framesDCWO2['best_of'] = framesDCWO2['best_of'].astype(str)\n",
    "framesDCWO2['Total_Sets'] = np.nan\n",
    "framesDCWO2['Total_Sets'] = framesDCWO2['Total_Sets'].fillna(framesDCWO2['best_of'].map(Sets))\n",
    "framesDCWO2['Total_Sets'] = framesDCWO2['Total_Sets'].astype(int)"
   ]
  },
  {
   "cell_type": "markdown",
   "metadata": {},
   "source": [
    "### 5. Solve *_ht (height) problem:"
   ]
  },
  {
   "cell_type": "code",
   "execution_count": 102,
   "metadata": {
    "scrolled": true
   },
   "outputs": [
    {
     "data": {
      "text/plain": [
       "tourney_id             0\n",
       "tourney_name           0\n",
       "surface                0\n",
       "draw_size              0\n",
       "tourney_level          0\n",
       "tourney_date           0\n",
       "match_num              0\n",
       "winner_id              0\n",
       "winner_name            0\n",
       "winner_hand            0\n",
       "winner_ht             58\n",
       "winner_ioc             0\n",
       "winner_age             0\n",
       "winner_rank            0\n",
       "winner_rank_points     0\n",
       "loser_id               0\n",
       "loser_name             0\n",
       "loser_hand             0\n",
       "loser_ht              92\n",
       "loser_ioc              0\n",
       "loser_age              0\n",
       "loser_rank             1\n",
       "loser_rank_points      1\n",
       "score                  0\n",
       "best_of                0\n",
       "round                  0\n",
       "minutes                0\n",
       "w_ace                  0\n",
       "w_df                   0\n",
       "w_svpt                 0\n",
       "w_1stIn                0\n",
       "w_1stWon               0\n",
       "w_2ndWon               0\n",
       "w_SvGms                0\n",
       "w_bpSaved              0\n",
       "w_bpFaced              0\n",
       "l_ace                  0\n",
       "l_df                   0\n",
       "l_svpt                 0\n",
       "l_1stIn                0\n",
       "l_1stWon               0\n",
       "l_2ndWon               0\n",
       "l_SvGms                0\n",
       "l_bpSaved              0\n",
       "l_bpFaced              0\n",
       "TotalGames             0\n",
       "Retired                0\n",
       "w_hand                 0\n",
       "l_hand                 5\n",
       "Total_Sets             0\n",
       "dtype: int64"
      ]
     },
     "execution_count": 102,
     "metadata": {},
     "output_type": "execute_result"
    }
   ],
   "source": [
    "framesDCWO2.isnull().sum()"
   ]
  },
  {
   "cell_type": "code",
   "execution_count": 126,
   "metadata": {
    "collapsed": true
   },
   "outputs": [],
   "source": [
    "w_Names = {'Adrian Cruciat': 185,\n",
    " 'Alejandro Gonzalez': 191,\n",
    " 'Aleksandr Nedovyesov': 193,\n",
    " 'Alexander Zverev': 191,\n",
    " 'Alexandre Sidorenko': 185,\n",
    " 'Ante Pavic': 196,\n",
    " 'Augustin Gensse': 180,\n",
    " 'Austin Krajicek': 188,\n",
    " 'Axel Michon': 176,\n",
    " 'Bastian Knittel': 180,\n",
    " 'Blaz Rola': 193,\n",
    " 'Borna Coric': 185,\n",
    " 'Chris Eaton': 188,\n",
    " 'Christian Garin': 185,\n",
    " 'Christian Harrison': 180,\n",
    " 'Christian Lindell': 193,\n",
    " 'Chuhan Wang': 188,\n",
    " 'Daniel Kosakowski': 185,\n",
    " 'Daniel Munoz De La Nava': 178,\n",
    " 'Dennis Novikov': 193,\n",
    " 'Diego Sebastian Schwartzman': 170,\n",
    " 'Dimitar Kutrovsky': 175,\n",
    " 'Dominic Thiem': 185,\n",
    " 'Elias Ymer': 183,\n",
    " 'Emilio Gomez': 185,\n",
    " 'Facundo Bagnis': 183,\n",
    " 'Filip Peliwo': 178,\n",
    " 'Gianluca Naso': 193,\n",
    " 'Guido Pella': 185,\n",
    " 'Guillermo Olaso': 175,\n",
    " 'Gustavo Marcaccio': 170,\n",
    " 'Henri Kontinen': 191,\n",
    " 'Henri Laaksonen': 185,\n",
    " 'Hiroki Kondo': 178,\n",
    " 'Hiroki Moriya': 170,\n",
    " 'Inigo Cervantes Huegun': 183,\n",
    " 'Ivan Sergeyev': 175,\n",
    " 'Jamie Baker': 183,\n",
    " 'Jan Lennard Struff': 196,\n",
    " 'Jaroslav Pospisil': 178,\n",
    " 'Jason Kubler': 178,\n",
    " 'Javier Marti': 185,\n",
    " 'Jiri Vesely': 198,\n",
    " 'Joao Sousa': 185,\n",
    " 'Jonathan Dasnieres De Veigy': 175,\n",
    " 'Jonathan Marray': 183,\n",
    " 'Jorge Aguilar': 178,\n",
    " 'Karen Khachanov': 198,\n",
    " 'Kyle Edmund': 188,\n",
    " 'Laurent Recouderc': 178,\n",
    " 'Leonardo Tavares': 185,\n",
    " 'Lucas Pouille': 185,\n",
    " 'Luka Gregorc': 190,\n",
    " 'Luke Saville': 188,\n",
    " 'Marco Trungelliti': 180,\n",
    " 'Martin Alund': 183,\n",
    " 'Martin Fischer': 180,\n",
    " 'Marton Fucsovics': 188,\n",
    " 'Mate Delic': 196,\n",
    " 'Mate Pavic': 193,\n",
    " 'Mathieu Rodrigues': 180,\n",
    " 'Matteo Viola': 185,\n",
    " 'Maxime Teixeira': 188,\n",
    " 'Miloslav Mecir': 196,\n",
    " 'Mirza Basic': 188,\n",
    " 'Nick Kyrgios': 193,\n",
    " 'Nikola Milojevic': 188,\n",
    " 'Nils Langer': 193,\n",
    " 'Pablo Carreno Busta': 188,\n",
    " 'Patrik Rosenholm': 178,\n",
    " 'Pavol Cervenak': 191,\n",
    " 'Peng Sun': 184,\n",
    " 'Petar Jelenic': 190,\n",
    " 'Philip Davydenko': 183,\n",
    " 'Philipp Oswald': 201,\n",
    " 'Pierre Hugues Herbert': 188,\n",
    " 'Pierre Ludovic Duclos': 188,\n",
    " 'Radu Albot': 175,\n",
    " 'Rafael Arevalo': 180,\n",
    " 'Ramkumar Ramanathan': 188,\n",
    " 'Renzo Olivo': 180,\n",
    " 'Rhyne Williams': 185,\n",
    " 'Roberto Bautista Agut': 183,\n",
    " 'Roberto Carballes Baena': 180,\n",
    " 'Ruben Bemelmans': 183,\n",
    " 'Samuel Groth': 193,\n",
    " 'Sebastian Rieschick': 188,\n",
    " 'Sergei Bubka': 188,\n",
    " 'Takahiro Terachi': 174,\n",
    " 'Taro Daniel': 191,\n",
    " 'Thanasi Kokkinakis': 196,\n",
    " 'Tim Puetz': 185,\n",
    " 'Yan Bai': 185,\n",
    " 'Yannick Mertens': 188,\n",
    " 'Yuichi Sugita': 175,\n",
    " 'Ze Zhang': 188,\n",
    " 'Jordan Thompson': 183,\n",
    " 'Jared Donaldson': 188,\n",
    " 'Daniil Medvedev': 198,\n",
    " 'Alex Minaur': 180,\n",
    " 'Alex De Minaur': 180,\n",
    " 'Ernesto Escobedo': 185,\n",
    " 'Yoshihito Nishioka': 170,\n",
    " 'Jozef Kovalik': 183,\n",
    " 'Alexander Bublik': 196,\n",
    " 'Andrew Whittington': 188,\n",
    " 'Artem Sitak': 185,\n",
    " 'Hyeon Chung': 188,\n",
    " 'Finn Tearney': 183,\n",
    " 'Saketh Myneni': 193,\n",
    " 'Reilly Opelka': 211,\n",
    " 'Gerald Melzer': 188,\n",
    " 'Nikola Mektic': 183,\n",
    " 'Arthur De Greef': 183,\n",
    " 'Michael Mmoh': 185,\n",
    " 'Thiago Monteiro': 183,\n",
    " 'Francis Tiafoe': 188,\n",
    " 'Adam Pavlasek': 185,\n",
    " 'Casper Ruud': 183,\n",
    " 'Michael Venus': 191,\n",
    " 'Nikoloz Basilashvili': 185,\n",
    " 'Andrey Rublev': 188,\n",
    " 'Omar Jasika': 183,\n",
    " 'Matthew Barton': 191,\n",
    " 'Alex Bolt': 183,}"
   ]
  },
  {
   "cell_type": "code",
   "execution_count": 127,
   "metadata": {
    "collapsed": true,
    "scrolled": true
   },
   "outputs": [],
   "source": [
    "framesDCWO2['winner_ht'] = framesDCWO2['winner_ht'].fillna(framesDCWO2['winner_name'].map(w_Names))\n",
    "framesDCWO2['loser_ht'] = framesDCWO2['loser_ht'].fillna(framesDCWO2['loser_name'].map(w_Names))"
   ]
  },
  {
   "cell_type": "markdown",
   "metadata": {},
   "source": [
    "    1. Limpiar de NaNs:"
   ]
  },
  {
   "cell_type": "code",
   "execution_count": 129,
   "metadata": {
    "collapsed": true
   },
   "outputs": [],
   "source": [
    "framesDCWO2 = framesDCWO2.dropna()"
   ]
  },
  {
   "cell_type": "code",
   "execution_count": 130,
   "metadata": {},
   "outputs": [
    {
     "data": {
      "text/plain": [
       "(240, 50)"
      ]
     },
     "execution_count": 130,
     "metadata": {},
     "output_type": "execute_result"
    }
   ],
   "source": [
    "framesDCWO2.shape"
   ]
  },
  {
   "cell_type": "markdown",
   "metadata": {},
   "source": [
    "    2. Buscar 0 en aquellas variables que puedan tenerlos para evitar generar Infinitos:"
   ]
  },
  {
   "cell_type": "code",
   "execution_count": 131,
   "metadata": {
    "scrolled": true
   },
   "outputs": [
    {
     "data": {
      "text/html": [
       "<div>\n",
       "<style>\n",
       "    .dataframe thead tr:only-child th {\n",
       "        text-align: right;\n",
       "    }\n",
       "\n",
       "    .dataframe thead th {\n",
       "        text-align: left;\n",
       "    }\n",
       "\n",
       "    .dataframe tbody tr th {\n",
       "        vertical-align: top;\n",
       "    }\n",
       "</style>\n",
       "<table border=\"1\" class=\"dataframe\">\n",
       "  <thead>\n",
       "    <tr style=\"text-align: right;\">\n",
       "      <th></th>\n",
       "      <th>tourney_id</th>\n",
       "      <th>tourney_name</th>\n",
       "      <th>surface</th>\n",
       "      <th>draw_size</th>\n",
       "      <th>tourney_level</th>\n",
       "      <th>tourney_date</th>\n",
       "      <th>match_num</th>\n",
       "      <th>winner_id</th>\n",
       "      <th>winner_name</th>\n",
       "      <th>winner_hand</th>\n",
       "      <th>winner_ht</th>\n",
       "      <th>winner_ioc</th>\n",
       "      <th>winner_age</th>\n",
       "      <th>winner_rank</th>\n",
       "      <th>winner_rank_points</th>\n",
       "      <th>loser_id</th>\n",
       "      <th>loser_name</th>\n",
       "      <th>loser_hand</th>\n",
       "      <th>loser_ht</th>\n",
       "      <th>loser_ioc</th>\n",
       "      <th>loser_age</th>\n",
       "      <th>loser_rank</th>\n",
       "      <th>loser_rank_points</th>\n",
       "      <th>score</th>\n",
       "      <th>best_of</th>\n",
       "      <th>round</th>\n",
       "      <th>minutes</th>\n",
       "      <th>w_ace</th>\n",
       "      <th>w_df</th>\n",
       "      <th>w_svpt</th>\n",
       "      <th>w_1stIn</th>\n",
       "      <th>w_1stWon</th>\n",
       "      <th>w_2ndWon</th>\n",
       "      <th>w_SvGms</th>\n",
       "      <th>w_bpSaved</th>\n",
       "      <th>w_bpFaced</th>\n",
       "      <th>l_ace</th>\n",
       "      <th>l_df</th>\n",
       "      <th>l_svpt</th>\n",
       "      <th>l_1stIn</th>\n",
       "      <th>l_1stWon</th>\n",
       "      <th>l_2ndWon</th>\n",
       "      <th>l_SvGms</th>\n",
       "      <th>l_bpSaved</th>\n",
       "      <th>l_bpFaced</th>\n",
       "      <th>TotalGames</th>\n",
       "      <th>Retired</th>\n",
       "      <th>w_hand</th>\n",
       "      <th>l_hand</th>\n",
       "      <th>Total_Sets</th>\n",
       "    </tr>\n",
       "  </thead>\n",
       "  <tbody>\n",
       "  </tbody>\n",
       "</table>\n",
       "</div>"
      ],
      "text/plain": [
       "Empty DataFrame\n",
       "Columns: [tourney_id, tourney_name, surface, draw_size, tourney_level, tourney_date, match_num, winner_id, winner_name, winner_hand, winner_ht, winner_ioc, winner_age, winner_rank, winner_rank_points, loser_id, loser_name, loser_hand, loser_ht, loser_ioc, loser_age, loser_rank, loser_rank_points, score, best_of, round, minutes, w_ace, w_df, w_svpt, w_1stIn, w_1stWon, w_2ndWon, w_SvGms, w_bpSaved, w_bpFaced, l_ace, l_df, l_svpt, l_1stIn, l_1stWon, l_2ndWon, l_SvGms, l_bpSaved, l_bpFaced, TotalGames, Retired, w_hand, l_hand, Total_Sets]\n",
       "Index: []"
      ]
     },
     "execution_count": 131,
     "metadata": {},
     "output_type": "execute_result"
    }
   ],
   "source": [
    "framesDCWO2[framesDCWO2['w_SvGms'] == 0]"
   ]
  },
  {
   "cell_type": "code",
   "execution_count": 132,
   "metadata": {
    "scrolled": true
   },
   "outputs": [
    {
     "data": {
      "text/html": [
       "<div>\n",
       "<style>\n",
       "    .dataframe thead tr:only-child th {\n",
       "        text-align: right;\n",
       "    }\n",
       "\n",
       "    .dataframe thead th {\n",
       "        text-align: left;\n",
       "    }\n",
       "\n",
       "    .dataframe tbody tr th {\n",
       "        vertical-align: top;\n",
       "    }\n",
       "</style>\n",
       "<table border=\"1\" class=\"dataframe\">\n",
       "  <thead>\n",
       "    <tr style=\"text-align: right;\">\n",
       "      <th></th>\n",
       "      <th>tourney_id</th>\n",
       "      <th>tourney_name</th>\n",
       "      <th>surface</th>\n",
       "      <th>draw_size</th>\n",
       "      <th>tourney_level</th>\n",
       "      <th>tourney_date</th>\n",
       "      <th>match_num</th>\n",
       "      <th>winner_id</th>\n",
       "      <th>winner_name</th>\n",
       "      <th>winner_hand</th>\n",
       "      <th>winner_ht</th>\n",
       "      <th>winner_ioc</th>\n",
       "      <th>winner_age</th>\n",
       "      <th>winner_rank</th>\n",
       "      <th>winner_rank_points</th>\n",
       "      <th>loser_id</th>\n",
       "      <th>loser_name</th>\n",
       "      <th>loser_hand</th>\n",
       "      <th>loser_ht</th>\n",
       "      <th>loser_ioc</th>\n",
       "      <th>loser_age</th>\n",
       "      <th>loser_rank</th>\n",
       "      <th>loser_rank_points</th>\n",
       "      <th>score</th>\n",
       "      <th>best_of</th>\n",
       "      <th>round</th>\n",
       "      <th>minutes</th>\n",
       "      <th>w_ace</th>\n",
       "      <th>w_df</th>\n",
       "      <th>w_svpt</th>\n",
       "      <th>w_1stIn</th>\n",
       "      <th>w_1stWon</th>\n",
       "      <th>w_2ndWon</th>\n",
       "      <th>w_SvGms</th>\n",
       "      <th>w_bpSaved</th>\n",
       "      <th>w_bpFaced</th>\n",
       "      <th>l_ace</th>\n",
       "      <th>l_df</th>\n",
       "      <th>l_svpt</th>\n",
       "      <th>l_1stIn</th>\n",
       "      <th>l_1stWon</th>\n",
       "      <th>l_2ndWon</th>\n",
       "      <th>l_SvGms</th>\n",
       "      <th>l_bpSaved</th>\n",
       "      <th>l_bpFaced</th>\n",
       "      <th>TotalGames</th>\n",
       "      <th>Retired</th>\n",
       "      <th>w_hand</th>\n",
       "      <th>l_hand</th>\n",
       "      <th>Total_Sets</th>\n",
       "    </tr>\n",
       "  </thead>\n",
       "  <tbody>\n",
       "  </tbody>\n",
       "</table>\n",
       "</div>"
      ],
      "text/plain": [
       "Empty DataFrame\n",
       "Columns: [tourney_id, tourney_name, surface, draw_size, tourney_level, tourney_date, match_num, winner_id, winner_name, winner_hand, winner_ht, winner_ioc, winner_age, winner_rank, winner_rank_points, loser_id, loser_name, loser_hand, loser_ht, loser_ioc, loser_age, loser_rank, loser_rank_points, score, best_of, round, minutes, w_ace, w_df, w_svpt, w_1stIn, w_1stWon, w_2ndWon, w_SvGms, w_bpSaved, w_bpFaced, l_ace, l_df, l_svpt, l_1stIn, l_1stWon, l_2ndWon, l_SvGms, l_bpSaved, l_bpFaced, TotalGames, Retired, w_hand, l_hand, Total_Sets]\n",
       "Index: []"
      ]
     },
     "execution_count": 132,
     "metadata": {},
     "output_type": "execute_result"
    }
   ],
   "source": [
    "framesDCWO2[framesDCWO2['l_SvGms'] == 0]"
   ]
  },
  {
   "cell_type": "markdown",
   "metadata": {},
   "source": [
    "### 6. Average minutes per game:"
   ]
  },
  {
   "cell_type": "code",
   "execution_count": 135,
   "metadata": {
    "collapsed": true
   },
   "outputs": [],
   "source": [
    "framesDCWO2 = framesDCWO2.sort_values(by=['tourney_date', 'match_num'])"
   ]
  },
  {
   "cell_type": "code",
   "execution_count": 136,
   "metadata": {
    "collapsed": true,
    "scrolled": true
   },
   "outputs": [],
   "source": [
    "framesDCWO2 = framesDCWO2.set_index('tourney_date','match_num').sort_index()"
   ]
  },
  {
   "cell_type": "code",
   "execution_count": 137,
   "metadata": {
    "collapsed": true
   },
   "outputs": [],
   "source": [
    "framesDCWO2['w_minutes_cum']=framesDCWO2.groupby('winner_name')['minutes'].transform(pd.Series.cumsum)\n",
    "framesDCWO2['w_TotalGames_cum']=framesDCWO2.groupby('winner_name')['TotalGames'].transform(pd.Series.cumsum)\n",
    "framesDCWO2['w_minutes_average'] = framesDCWO2['w_minutes_cum'] / framesDCWO2['w_TotalGames_cum']\n",
    "columns = ['w_minutes_cum']\n",
    "framesDCWO2.drop(columns, inplace=True, axis=1) "
   ]
  },
  {
   "cell_type": "code",
   "execution_count": 138,
   "metadata": {
    "collapsed": true
   },
   "outputs": [],
   "source": [
    "framesDCWO2['l_minutes_cum']=framesDCWO2.groupby('loser_name')['minutes'].transform(pd.Series.cumsum)\n",
    "framesDCWO2['l_TotalGames_cum']=framesDCWO2.groupby('loser_name')['TotalGames'].transform(pd.Series.cumsum)\n",
    "framesDCWO2['l_minutes_average'] = framesDCWO2['l_minutes_cum'] / framesDCWO2['l_TotalGames_cum']\n",
    "columns = ['l_minutes_cum']\n",
    "framesDCWO2.drop(columns, inplace=True, axis=1) "
   ]
  },
  {
   "cell_type": "markdown",
   "metadata": {
    "collapsed": true
   },
   "source": [
    "### 7. Average aces per game"
   ]
  },
  {
   "cell_type": "code",
   "execution_count": 139,
   "metadata": {
    "collapsed": true,
    "scrolled": true
   },
   "outputs": [],
   "source": [
    "framesDCWO2['w_aces_cum']=framesDCWO2.groupby('winner_name')['w_ace'].transform(pd.Series.cumsum)\n",
    "framesDCWO2['w_aces_average'] = framesDCWO2['w_aces_cum'] / framesDCWO2['w_TotalGames_cum']\n",
    "framesDCWO2['l_aces_cum']=framesDCWO2.groupby('loser_name')['l_ace'].transform(pd.Series.cumsum)\n",
    "framesDCWO2['l_aces_average'] = framesDCWO2['l_aces_cum'] / framesDCWO2['l_TotalGames_cum']\n",
    "columns = ['w_aces_cum', 'l_aces_cum']\n",
    "framesDCWO2.drop(columns, inplace=True, axis=1) "
   ]
  },
  {
   "cell_type": "markdown",
   "metadata": {
    "collapsed": true
   },
   "source": [
    "### 8. Average double foult per match"
   ]
  },
  {
   "cell_type": "code",
   "execution_count": 140,
   "metadata": {
    "collapsed": true,
    "scrolled": true
   },
   "outputs": [],
   "source": [
    "framesDCWO2['w_df_cum']=framesDCWO2.groupby('winner_name')['w_df'].transform(pd.Series.cumsum)\n",
    "framesDCWO2['w_df_average'] = framesDCWO2['w_df_cum'] / framesDCWO2['w_TotalGames_cum']\n",
    "framesDCWO2['l_df_cum']=framesDCWO2.groupby('loser_name')['l_df'].transform(pd.Series.cumsum)\n",
    "framesDCWO2['l_df_average'] = framesDCWO2['l_df_cum'] / framesDCWO2['l_TotalGames_cum']\n",
    "columns = ['w_df_cum', 'l_df_cum']\n",
    "framesDCWO2.drop(columns, inplace=True, axis=1) "
   ]
  },
  {
   "cell_type": "markdown",
   "metadata": {},
   "source": [
    "### 9. % First In (w_1stIn/game)"
   ]
  },
  {
   "cell_type": "code",
   "execution_count": 141,
   "metadata": {
    "collapsed": true,
    "scrolled": true
   },
   "outputs": [],
   "source": [
    "framesDCWO2['w_1stIn_cum']=framesDCWO2.groupby('winner_name')['w_1stIn'].transform(pd.Series.cumsum)\n",
    "framesDCWO2['w_SvGames_cum']=framesDCWO2.groupby('winner_name')['w_SvGms'].transform(pd.Series.cumsum)\n",
    "framesDCWO2['w_1stIn_average'] = framesDCWO2['w_1stIn_cum'] / framesDCWO2['w_SvGames_cum']\n",
    "framesDCWO2['l_1stIn_cum']=framesDCWO2.groupby('loser_name')['l_1stIn'].transform(pd.Series.cumsum)\n",
    "framesDCWO2['l_SvGames_cum']=framesDCWO2.groupby('loser_name')['l_SvGms'].transform(pd.Series.cumsum)\n",
    "framesDCWO2['l_1stIn_average'] = framesDCWO2['l_1stIn_cum'] / framesDCWO2['l_SvGames_cum']\n",
    "columns = ['w_1stIn_cum', 'l_1stIn_cum']\n",
    "framesDCWO2.drop(columns, inplace=True, axis=1) "
   ]
  },
  {
   "cell_type": "code",
   "execution_count": 142,
   "metadata": {},
   "outputs": [
    {
     "name": "stdout",
     "output_type": "stream",
     "text": [
      "(3.94518666749397, 4.553571428571429)\n"
     ]
    }
   ],
   "source": [
    "x = framesDCWO2[framesDCWO2['winner_name'] == 'Rafael Nadal']['w_1stIn_average'].mean()\n",
    "y = framesDCWO2[framesDCWO2['loser_name'] == 'Rafael Nadal']['l_1stIn_average'].mean()\n",
    "print (x,y)"
   ]
  },
  {
   "cell_type": "markdown",
   "metadata": {},
   "source": [
    "### 10. % First Won (w_1stWon/game)"
   ]
  },
  {
   "cell_type": "code",
   "execution_count": 143,
   "metadata": {
    "collapsed": true,
    "scrolled": true
   },
   "outputs": [],
   "source": [
    "framesDCWO2['w_1stWon_cum']=framesDCWO2.groupby('winner_name')['w_1stWon'].transform(pd.Series.cumsum)\n",
    "framesDCWO2['w_1stWon_average'] = framesDCWO2['w_1stWon_cum'] / framesDCWO2['w_SvGames_cum']\n",
    "framesDCWO2['l_1stWon_cum']=framesDCWO2.groupby('loser_name')['l_1stWon'].transform(pd.Series.cumsum)\n",
    "framesDCWO2['l_1stWon_average'] = framesDCWO2['l_1stWon_cum'] / framesDCWO2['l_SvGames_cum']\n",
    "columns = ['w_1stWon_cum', 'l_1stWon_cum']\n",
    "framesDCWO2.drop(columns, inplace=True, axis=1) "
   ]
  },
  {
   "cell_type": "markdown",
   "metadata": {
    "collapsed": true
   },
   "source": [
    "### 11. % Second Won (w_2ndWon/game)"
   ]
  },
  {
   "cell_type": "code",
   "execution_count": 144,
   "metadata": {
    "collapsed": true
   },
   "outputs": [],
   "source": [
    "framesDCWO2['w_2ndWon_cum']=framesDCWO2.groupby('winner_name')['w_2ndWon'].transform(pd.Series.cumsum)\n",
    "framesDCWO2['w_2ndWon_average'] = framesDCWO2['w_2ndWon_cum'] / framesDCWO2['w_SvGames_cum']\n",
    "framesDCWO2['l_2ndWon_cum']=framesDCWO2.groupby('loser_name')['l_2ndWon'].transform(pd.Series.cumsum)\n",
    "framesDCWO2['l_2ndWon_average'] = framesDCWO2['l_2ndWon_cum'] / framesDCWO2['l_SvGames_cum']\n",
    "columns = ['w_2ndWon_cum', 'l_2ndWon_cum']\n",
    "framesDCWO2.drop(columns, inplace=True, axis=1) "
   ]
  },
  {
   "cell_type": "markdown",
   "metadata": {},
   "source": [
    "### 12. % Break Point Saved (w_bpSaved/w_bpFaced)"
   ]
  },
  {
   "cell_type": "code",
   "execution_count": 145,
   "metadata": {
    "collapsed": true
   },
   "outputs": [],
   "source": [
    "framesDCWO2['w_bpSaved_cum']=framesDCWO2.groupby('winner_name')['w_bpSaved'].transform(pd.Series.cumsum)\n",
    "framesDCWO2['w_bpFaced_cum']=framesDCWO2.groupby('winner_name')['w_bpFaced'].transform(pd.Series.cumsum)\n",
    "framesDCWO2['w_bpSaved_average'] = framesDCWO2['w_bpSaved_cum'] / framesDCWO2['w_bpFaced_cum']\n",
    "framesDCWO2['l_bpSaved_cum']=framesDCWO2.groupby('loser_name')['l_bpSaved'].transform(pd.Series.cumsum)\n",
    "framesDCWO2['l_bpFaced_cum']=framesDCWO2.groupby('loser_name')['l_bpFaced'].transform(pd.Series.cumsum)\n",
    "framesDCWO2['l_bpSaved_average'] = framesDCWO2['l_bpSaved_cum'] / framesDCWO2['l_bpFaced_cum']\n",
    "columns = ['w_bpSaved_cum','w_bpFaced_cum', 'l_bpSaved_cum', 'l_bpFaced_cum']\n",
    "framesDCWO2.drop(columns, inplace=True, axis=1) "
   ]
  },
  {
   "cell_type": "markdown",
   "metadata": {},
   "source": [
    "## 3.2. Data Transformation:"
   ]
  },
  {
   "cell_type": "markdown",
   "metadata": {},
   "source": [
    "#### 1. Creating new Features: Dif"
   ]
  },
  {
   "cell_type": "code",
   "execution_count": 146,
   "metadata": {
    "collapsed": true
   },
   "outputs": [],
   "source": [
    "framesDCWO2 = framesDCWO2.reset_index()"
   ]
  },
  {
   "cell_type": "markdown",
   "metadata": {},
   "source": [
    "#### 1.1.1. dif_Minutes"
   ]
  },
  {
   "cell_type": "code",
   "execution_count": 147,
   "metadata": {
    "collapsed": true,
    "scrolled": true
   },
   "outputs": [],
   "source": [
    "framesDCWO2['dif_Minutes'] = framesDCWO2['w_minutes_average'] - framesDCWO2['l_minutes_average'] \n",
    "framesDCWO2.loc[1::2,'dif_Minutes'] = - framesDCWO2['w_minutes_average'] + framesDCWO2['l_minutes_average'] "
   ]
  },
  {
   "cell_type": "markdown",
   "metadata": {},
   "source": [
    "#### 1.1.2. dif_Aces"
   ]
  },
  {
   "cell_type": "code",
   "execution_count": 148,
   "metadata": {
    "collapsed": true
   },
   "outputs": [],
   "source": [
    "framesDCWO2['dif_Aces'] = framesDCWO2['w_aces_average'] - framesDCWO2['l_aces_average'] \n",
    "framesDCWO2.loc[1::2,'dif_Aces'] = - framesDCWO2['w_aces_average'] + framesDCWO2['l_aces_average'] "
   ]
  },
  {
   "cell_type": "markdown",
   "metadata": {},
   "source": [
    "#### 1.1.3. dif_Df"
   ]
  },
  {
   "cell_type": "code",
   "execution_count": 149,
   "metadata": {
    "collapsed": true
   },
   "outputs": [],
   "source": [
    "framesDCWO2['dif_Df'] = framesDCWO2['w_df_average'] - framesDCWO2['l_df_average'] \n",
    "framesDCWO2.loc[1::2,'dif_Df'] = - framesDCWO2['w_df_average'] + framesDCWO2['l_df_average'] "
   ]
  },
  {
   "cell_type": "markdown",
   "metadata": {},
   "source": [
    "#### 1.1.4. dif_1stIn"
   ]
  },
  {
   "cell_type": "code",
   "execution_count": 150,
   "metadata": {
    "collapsed": true
   },
   "outputs": [],
   "source": [
    "framesDCWO2['dif_1stIn'] = framesDCWO2['w_1stIn_average'] - framesDCWO2['l_1stIn_average'] \n",
    "framesDCWO2.loc[1::2,'dif_1stIn'] = - framesDCWO2['w_1stIn_average'] + framesDCWO2['l_1stIn_average'] "
   ]
  },
  {
   "cell_type": "markdown",
   "metadata": {},
   "source": [
    "#### 1.1.5. dif_1stWon"
   ]
  },
  {
   "cell_type": "code",
   "execution_count": 151,
   "metadata": {
    "collapsed": true
   },
   "outputs": [],
   "source": [
    "framesDCWO2['dif_1stWon'] = framesDCWO2['w_1stWon_average'] - framesDCWO2['l_1stWon_average'] \n",
    "framesDCWO2.loc[1::2,'dif_1stWon'] = - framesDCWO2['w_1stWon_average'] + framesDCWO2['l_1stWon_average'] "
   ]
  },
  {
   "cell_type": "markdown",
   "metadata": {},
   "source": [
    "#### 1.1.6. dif_2ndWon"
   ]
  },
  {
   "cell_type": "code",
   "execution_count": 152,
   "metadata": {
    "collapsed": true
   },
   "outputs": [],
   "source": [
    "framesDCWO2['dif_2ndWon'] = framesDCWO2['w_2ndWon_average'] - framesDCWO2['l_2ndWon_average'] \n",
    "framesDCWO2.loc[1::2,'dif_2ndWon'] = - framesDCWO2['w_2ndWon_average'] + framesDCWO2['l_2ndWon_average'] "
   ]
  },
  {
   "cell_type": "markdown",
   "metadata": {},
   "source": [
    "#### 1.1.7. dif_BpSv"
   ]
  },
  {
   "cell_type": "code",
   "execution_count": 153,
   "metadata": {
    "collapsed": true
   },
   "outputs": [],
   "source": [
    "framesDCWO2['dif_BpSv'] = framesDCWO2['w_bpSaved_average'] - framesDCWO2['l_bpSaved_average'] \n",
    "framesDCWO2.loc[1::2,'dif_BpSv'] = - framesDCWO2['w_bpSaved_average'] + framesDCWO2['l_bpSaved_average'] "
   ]
  },
  {
   "cell_type": "markdown",
   "metadata": {},
   "source": [
    "#### 1.1.8. dif_Age"
   ]
  },
  {
   "cell_type": "code",
   "execution_count": 154,
   "metadata": {
    "collapsed": true
   },
   "outputs": [],
   "source": [
    "framesDCWO2['dif_Age'] = framesDCWO2['winner_age'] - framesDCWO2['loser_age'] \n",
    "framesDCWO2.loc[1::2,'dif_Age'] = - framesDCWO2['winner_age'] + framesDCWO2['loser_age'] "
   ]
  },
  {
   "cell_type": "markdown",
   "metadata": {},
   "source": [
    "#### 1.1.9. dif_Height"
   ]
  },
  {
   "cell_type": "code",
   "execution_count": 155,
   "metadata": {
    "collapsed": true
   },
   "outputs": [],
   "source": [
    "framesDCWO2['dif_Height'] = framesDCWO2['winner_ht'] - framesDCWO2['loser_ht'] \n",
    "framesDCWO2.loc[1::2,'dif_Height'] = - framesDCWO2['winner_ht'] + framesDCWO2['loser_ht'] "
   ]
  },
  {
   "cell_type": "markdown",
   "metadata": {},
   "source": [
    "#### 1.1.10. dif_Rank"
   ]
  },
  {
   "cell_type": "code",
   "execution_count": 156,
   "metadata": {
    "collapsed": true
   },
   "outputs": [],
   "source": [
    "framesDCWO2['dif_Rank'] = framesDCWO2['winner_rank'] - framesDCWO2['loser_rank'] \n",
    "framesDCWO2.loc[1::2,'dif_Rank'] = - framesDCWO2['winner_rank'] + framesDCWO2['loser_rank'] "
   ]
  },
  {
   "cell_type": "markdown",
   "metadata": {},
   "source": [
    "#### 1.1.11. dif_RankP"
   ]
  },
  {
   "cell_type": "code",
   "execution_count": 157,
   "metadata": {
    "collapsed": true
   },
   "outputs": [],
   "source": [
    "framesDCWO2['dif_RankP'] = framesDCWO2['winner_rank_points'] - framesDCWO2['loser_rank_points'] \n",
    "framesDCWO2.loc[1::2,'dif_RankP'] = - framesDCWO2['winner_rank_points'] + framesDCWO2['loser_rank_points'] "
   ]
  },
  {
   "cell_type": "markdown",
   "metadata": {
    "collapsed": true
   },
   "source": [
    "## TARGET:"
   ]
  },
  {
   "cell_type": "code",
   "execution_count": 158,
   "metadata": {
    "collapsed": true
   },
   "outputs": [],
   "source": [
    "framesDCWO2['Y'] = 1\n",
    "framesDCWO2.loc[1::2,'Y'] = 0"
   ]
  },
  {
   "cell_type": "markdown",
   "metadata": {},
   "source": [
    "    Generamos el dataframe definitivo incluyendo todas las features que vamos a utilizar:"
   ]
  },
  {
   "cell_type": "code",
   "execution_count": 159,
   "metadata": {
    "collapsed": true
   },
   "outputs": [],
   "source": [
    "TennisDF = framesDCWO2[['Y','dif_Rank','dif_RankP','dif_Height','dif_Age','w_hand','l_hand','dif_Minutes','dif_Aces',\n",
    "                        'dif_Df','dif_1stIn','dif_1stWon', 'dif_2ndWon','dif_BpSv']]             "
   ]
  },
  {
   "cell_type": "code",
   "execution_count": 160,
   "metadata": {},
   "outputs": [
    {
     "data": {
      "text/plain": [
       "(240, 14)"
      ]
     },
     "execution_count": 160,
     "metadata": {},
     "output_type": "execute_result"
    }
   ],
   "source": [
    "TennisDF.shape"
   ]
  },
  {
   "cell_type": "code",
   "execution_count": 162,
   "metadata": {
    "collapsed": true
   },
   "outputs": [],
   "source": [
    "TennisDF = TennisDF.dropna()"
   ]
  },
  {
   "cell_type": "code",
   "execution_count": 163,
   "metadata": {},
   "outputs": [
    {
     "data": {
      "text/plain": [
       "(233, 14)"
      ]
     },
     "execution_count": 163,
     "metadata": {},
     "output_type": "execute_result"
    }
   ],
   "source": [
    "TennisDF.shape"
   ]
  },
  {
   "cell_type": "markdown",
   "metadata": {
    "collapsed": true,
    "scrolled": true
   },
   "source": [
    "**Antes de seguir vamos a hacer una copia de este DataSet. Esta será nuestra base para todos los trabajos posteriores:**"
   ]
  },
  {
   "cell_type": "code",
   "execution_count": 166,
   "metadata": {
    "collapsed": true
   },
   "outputs": [],
   "source": [
    "TennisDF.to_csv('TennisDF_2017', encoding='utf-8', index=False)"
   ]
  },
  {
   "cell_type": "markdown",
   "metadata": {},
   "source": [
    "## 8.2. Data Analisis:"
   ]
  },
  {
   "cell_type": "markdown",
   "metadata": {},
   "source": [
    "### 8.2.1. Feature distribution:"
   ]
  },
  {
   "cell_type": "markdown",
   "metadata": {},
   "source": [
    "    Vamos a analizar visualmente la distribución de de nuestras variables:"
   ]
  },
  {
   "cell_type": "code",
   "execution_count": 170,
   "metadata": {
    "scrolled": true
   },
   "outputs": [
    {
     "data": {
      "image/png": "[encoded data removed]",
      "text/plain": [
       "<matplotlib.figure.Figure at 0x1133bd890>"
      ]
     },
     "metadata": {},
     "output_type": "display_data"
    }
   ],
   "source": [
    "plt.figure(figsize=(20,20))\n",
    "sns.set(style=\"darkgrid\")\n",
    "for index,col in enumerate(TennisDF.columns):\n",
    "    plt.subplot(6,5,index+1)\n",
    "    sns.distplot(TennisDF[col])"
   ]
  },
  {
   "cell_type": "markdown",
   "metadata": {
    "collapsed": true
   },
   "source": [
    "     Antes de introducir las variables en el modelo vamos a estandarizarlas:"
   ]
  },
  {
   "cell_type": "markdown",
   "metadata": {},
   "source": [
    "   **METODO 1:**"
   ]
  },
  {
   "cell_type": "code",
   "execution_count": 171,
   "metadata": {
    "collapsed": true
   },
   "outputs": [],
   "source": [
    "TennisDF_X = TennisDF[['dif_Rank','dif_RankP','dif_Height','dif_Age','w_hand','l_hand','dif_Minutes','dif_Aces',\n",
    "                        'dif_Df','dif_1stIn','dif_1stWon', 'dif_2ndWon','dif_BpSv']]\n",
    "TennisDF_Y = TennisDF['Y']"
   ]
  },
  {
   "cell_type": "code",
   "execution_count": 172,
   "metadata": {
    "collapsed": true
   },
   "outputs": [],
   "source": [
    "TennisDFnorm_X = TennisDF_X.apply(lambda x: (x - np.mean(x)) / (np.std(x)))"
   ]
  },
  {
   "cell_type": "code",
   "execution_count": 173,
   "metadata": {},
   "outputs": [
    {
     "data": {
      "text/html": [
       "<div>\n",
       "<style>\n",
       "    .dataframe thead tr:only-child th {\n",
       "        text-align: right;\n",
       "    }\n",
       "\n",
       "    .dataframe thead th {\n",
       "        text-align: left;\n",
       "    }\n",
       "\n",
       "    .dataframe tbody tr th {\n",
       "        vertical-align: top;\n",
       "    }\n",
       "</style>\n",
       "<table border=\"1\" class=\"dataframe\">\n",
       "  <thead>\n",
       "    <tr style=\"text-align: right;\">\n",
       "      <th></th>\n",
       "      <th>dif_Rank</th>\n",
       "      <th>dif_RankP</th>\n",
       "      <th>dif_Height</th>\n",
       "      <th>dif_Age</th>\n",
       "      <th>w_hand</th>\n",
       "      <th>l_hand</th>\n",
       "      <th>dif_Minutes</th>\n",
       "      <th>dif_Aces</th>\n",
       "      <th>dif_Df</th>\n",
       "      <th>dif_1stIn</th>\n",
       "      <th>dif_1stWon</th>\n",
       "      <th>dif_2ndWon</th>\n",
       "      <th>dif_BpSv</th>\n",
       "    </tr>\n",
       "  </thead>\n",
       "  <tbody>\n",
       "    <tr>\n",
       "      <th>0</th>\n",
       "      <td>-0.457522</td>\n",
       "      <td>3.482508</td>\n",
       "      <td>-0.796784</td>\n",
       "      <td>0.424275</td>\n",
       "      <td>0.362033</td>\n",
       "      <td>0.462106</td>\n",
       "      <td>0.050856</td>\n",
       "      <td>-0.976288</td>\n",
       "      <td>1.387396</td>\n",
       "      <td>0.301245</td>\n",
       "      <td>1.777292</td>\n",
       "      <td>-1.760194</td>\n",
       "      <td>0.056955</td>\n",
       "    </tr>\n",
       "    <tr>\n",
       "      <th>1</th>\n",
       "      <td>0.646735</td>\n",
       "      <td>-0.237244</td>\n",
       "      <td>-2.222673</td>\n",
       "      <td>-1.623791</td>\n",
       "      <td>0.362033</td>\n",
       "      <td>-2.164007</td>\n",
       "      <td>0.050856</td>\n",
       "      <td>-2.067429</td>\n",
       "      <td>-1.848408</td>\n",
       "      <td>1.037939</td>\n",
       "      <td>-0.307413</td>\n",
       "      <td>1.354620</td>\n",
       "      <td>0.789579</td>\n",
       "    </tr>\n",
       "    <tr>\n",
       "      <th>2</th>\n",
       "      <td>0.094606</td>\n",
       "      <td>0.004478</td>\n",
       "      <td>-0.226429</td>\n",
       "      <td>0.991570</td>\n",
       "      <td>0.362033</td>\n",
       "      <td>0.462106</td>\n",
       "      <td>0.050856</td>\n",
       "      <td>1.241006</td>\n",
       "      <td>0.549894</td>\n",
       "      <td>-1.881841</td>\n",
       "      <td>-0.845787</td>\n",
       "      <td>0.540289</td>\n",
       "      <td>-0.913772</td>\n",
       "    </tr>\n",
       "    <tr>\n",
       "      <th>3</th>\n",
       "      <td>-0.122899</td>\n",
       "      <td>0.065933</td>\n",
       "      <td>0.153808</td>\n",
       "      <td>0.201378</td>\n",
       "      <td>-2.762178</td>\n",
       "      <td>0.462106</td>\n",
       "      <td>0.050856</td>\n",
       "      <td>0.628333</td>\n",
       "      <td>-0.329484</td>\n",
       "      <td>0.071783</td>\n",
       "      <td>0.250901</td>\n",
       "      <td>-0.719378</td>\n",
       "      <td>-0.089570</td>\n",
       "    </tr>\n",
       "    <tr>\n",
       "      <th>4</th>\n",
       "      <td>-0.750317</td>\n",
       "      <td>0.184746</td>\n",
       "      <td>0.248868</td>\n",
       "      <td>0.189317</td>\n",
       "      <td>0.362033</td>\n",
       "      <td>0.462106</td>\n",
       "      <td>0.050856</td>\n",
       "      <td>0.015659</td>\n",
       "      <td>-0.451619</td>\n",
       "      <td>-2.031619</td>\n",
       "      <td>-0.279165</td>\n",
       "      <td>-1.745773</td>\n",
       "      <td>-0.858825</td>\n",
       "    </tr>\n",
       "  </tbody>\n",
       "</table>\n",
       "</div>"
      ],
      "text/plain": [
       "   dif_Rank  dif_RankP  dif_Height   dif_Age    w_hand    l_hand  dif_Minutes  \\\n",
       "0 -0.457522   3.482508   -0.796784  0.424275  0.362033  0.462106     0.050856   \n",
       "1  0.646735  -0.237244   -2.222673 -1.623791  0.362033 -2.164007     0.050856   \n",
       "2  0.094606   0.004478   -0.226429  0.991570  0.362033  0.462106     0.050856   \n",
       "3 -0.122899   0.065933    0.153808  0.201378 -2.762178  0.462106     0.050856   \n",
       "4 -0.750317   0.184746    0.248868  0.189317  0.362033  0.462106     0.050856   \n",
       "\n",
       "   dif_Aces    dif_Df  dif_1stIn  dif_1stWon  dif_2ndWon  dif_BpSv  \n",
       "0 -0.976288  1.387396   0.301245    1.777292   -1.760194  0.056955  \n",
       "1 -2.067429 -1.848408   1.037939   -0.307413    1.354620  0.789579  \n",
       "2  1.241006  0.549894  -1.881841   -0.845787    0.540289 -0.913772  \n",
       "3  0.628333 -0.329484   0.071783    0.250901   -0.719378 -0.089570  \n",
       "4  0.015659 -0.451619  -2.031619   -0.279165   -1.745773 -0.858825  "
      ]
     },
     "execution_count": 173,
     "metadata": {},
     "output_type": "execute_result"
    }
   ],
   "source": [
    "TennisDFnorm_X.head()"
   ]
  },
  {
   "cell_type": "markdown",
   "metadata": {},
   "source": [
    "     Vuelvo a visualizar las variables predictoras para ver si están contenidas entre su media y 3 veces su desviación estandar:"
   ]
  },
  {
   "cell_type": "code",
   "execution_count": 174,
   "metadata": {
    "scrolled": true
   },
   "outputs": [
    {
     "data": {
      "image/png": "[encoded data removed]",
      "text/plain": [
       "<matplotlib.figure.Figure at 0x1133bda10>"
      ]
     },
     "metadata": {},
     "output_type": "display_data"
    }
   ],
   "source": [
    "plt.figure(figsize=(20,20))\n",
    "sns.set(style=\"darkgrid\")\n",
    "for index,col in enumerate(TennisDFnorm_X.columns):\n",
    "    plt.subplot(6,5,index+1)\n",
    "    sns.distplot(TennisDFnorm_X[col])"
   ]
  },
  {
   "cell_type": "markdown",
   "metadata": {
    "collapsed": true
   },
   "source": [
    "# 8.3. Modeling the data:"
   ]
  },
  {
   "cell_type": "code",
   "execution_count": 178,
   "metadata": {
    "collapsed": true
   },
   "outputs": [],
   "source": [
    "X = TennisDFnorm_X[['dif_Rank']]\n",
    "y = TennisDF['Y']"
   ]
  },
  {
   "cell_type": "markdown",
   "metadata": {
    "collapsed": true
   },
   "source": [
    "###       Analisis de la Colinearidad:"
   ]
  },
  {
   "cell_type": "code",
   "execution_count": 214,
   "metadata": {
    "collapsed": true
   },
   "outputs": [],
   "source": [
    "from sklearn import linear_model\n",
    "from sklearn.cross_validation import train_test_split\n",
    "from sklearn.model_selection import cross_val_score"
   ]
  },
  {
   "cell_type": "markdown",
   "metadata": {},
   "source": [
    "    1. First In:"
   ]
  },
  {
   "cell_type": "code",
   "execution_count": 188,
   "metadata": {
    "collapsed": true
   },
   "outputs": [],
   "source": [
    "X = TennisDFnorm_X[['dif_1stIn']]"
   ]
  },
  {
   "cell_type": "code",
   "execution_count": 189,
   "metadata": {
    "scrolled": true
   },
   "outputs": [
    {
     "data": {
      "text/plain": [
       "array([ 0.38461538,  0.5       ,  0.66666667,  0.45454545,  0.45454545])"
      ]
     },
     "execution_count": 189,
     "metadata": {},
     "output_type": "execute_result"
    }
   ],
   "source": [
    "X_train,X_test,y_train,y_test = train_test_split(X, y)\n",
    "logreg.fit(X_train, y_train)\n",
    "cross_val_score(logreg, X_test, y_test,cv=5) "
   ]
  },
  {
   "cell_type": "markdown",
   "metadata": {},
   "source": [
    "     OK, no existe una correlación importante con el resultado."
   ]
  },
  {
   "cell_type": "markdown",
   "metadata": {},
   "source": [
    "    2. Second Won:"
   ]
  },
  {
   "cell_type": "code",
   "execution_count": 190,
   "metadata": {
    "collapsed": true
   },
   "outputs": [],
   "source": [
    "X = TennisDFnorm_X[['dif_2ndWon']]"
   ]
  },
  {
   "cell_type": "code",
   "execution_count": 191,
   "metadata": {
    "scrolled": true
   },
   "outputs": [
    {
     "data": {
      "text/plain": [
       "array([ 0.84615385,  0.66666667,  0.91666667,  0.90909091,  0.63636364])"
      ]
     },
     "execution_count": 191,
     "metadata": {},
     "output_type": "execute_result"
    }
   ],
   "source": [
    "X_train,X_test,y_train,y_test = train_test_split(X, y)\n",
    "logreg.fit(X_train, y_train)\n",
    "cross_val_score(logreg, X_test, y_test,cv=5) "
   ]
  },
  {
   "cell_type": "markdown",
   "metadata": {},
   "source": [
    "     Existe una correalción fuerte. Deberíamos rechazarla en el modelo."
   ]
  },
  {
   "cell_type": "markdown",
   "metadata": {},
   "source": [
    "    3. First Won:"
   ]
  },
  {
   "cell_type": "code",
   "execution_count": 192,
   "metadata": {
    "collapsed": true
   },
   "outputs": [],
   "source": [
    "X = TennisDFnorm_X[['dif_1stWon']]"
   ]
  },
  {
   "cell_type": "code",
   "execution_count": 193,
   "metadata": {},
   "outputs": [
    {
     "data": {
      "text/plain": [
       "array([ 0.76923077,  0.83333333,  0.83333333,  0.81818182,  0.81818182])"
      ]
     },
     "execution_count": 193,
     "metadata": {},
     "output_type": "execute_result"
    }
   ],
   "source": [
    "X_train,X_test,y_train,y_test = train_test_split(X, y)\n",
    "logreg.fit(X_train, y_train)\n",
    "cross_val_score(logreg, X_test, y_test,cv=5) "
   ]
  },
  {
   "cell_type": "markdown",
   "metadata": {},
   "source": [
    "     Existe una correalción fuerte. Deberíamos rechazarla en el modelo."
   ]
  },
  {
   "cell_type": "markdown",
   "metadata": {},
   "source": [
    "    4. Break Points saved:"
   ]
  },
  {
   "cell_type": "code",
   "execution_count": 194,
   "metadata": {
    "collapsed": true
   },
   "outputs": [],
   "source": [
    "X = TennisDFnorm_X[['dif_BpSv']]"
   ]
  },
  {
   "cell_type": "code",
   "execution_count": 195,
   "metadata": {},
   "outputs": [
    {
     "data": {
      "text/plain": [
       "array([ 0.92307692,  0.69230769,  0.81818182,  0.81818182,  0.63636364])"
      ]
     },
     "execution_count": 195,
     "metadata": {},
     "output_type": "execute_result"
    }
   ],
   "source": [
    "X_train,X_test,y_train,y_test = train_test_split(X, y)\n",
    "logreg.fit(X_train, y_train)\n",
    "cross_val_score(logreg, X_test, y_test,cv=5) "
   ]
  },
  {
   "cell_type": "code",
   "execution_count": 196,
   "metadata": {
    "collapsed": true
   },
   "outputs": [],
   "source": [
    "del TennisDFnorm_X['dif_1stWon']\n",
    "del TennisDFnorm_X['dif_2ndWon']\n",
    "del TennisDFnorm_X['dif_BpSv']"
   ]
  },
  {
   "cell_type": "code",
   "execution_count": 197,
   "metadata": {
    "collapsed": true
   },
   "outputs": [],
   "source": [
    "X = TennisDFnorm_X"
   ]
  },
  {
   "cell_type": "code",
   "execution_count": 198,
   "metadata": {
    "scrolled": false
   },
   "outputs": [
    {
     "data": {
      "text/html": [
       "<div>\n",
       "<style>\n",
       "    .dataframe thead tr:only-child th {\n",
       "        text-align: right;\n",
       "    }\n",
       "\n",
       "    .dataframe thead th {\n",
       "        text-align: left;\n",
       "    }\n",
       "\n",
       "    .dataframe tbody tr th {\n",
       "        vertical-align: top;\n",
       "    }\n",
       "</style>\n",
       "<table border=\"1\" class=\"dataframe\">\n",
       "  <thead>\n",
       "    <tr style=\"text-align: right;\">\n",
       "      <th></th>\n",
       "      <th>dif_Rank</th>\n",
       "      <th>dif_RankP</th>\n",
       "      <th>dif_Height</th>\n",
       "      <th>dif_Age</th>\n",
       "      <th>w_hand</th>\n",
       "      <th>l_hand</th>\n",
       "      <th>dif_Minutes</th>\n",
       "      <th>dif_Aces</th>\n",
       "      <th>dif_Df</th>\n",
       "      <th>dif_1stIn</th>\n",
       "    </tr>\n",
       "  </thead>\n",
       "  <tbody>\n",
       "    <tr>\n",
       "      <th>0</th>\n",
       "      <td>-0.457522</td>\n",
       "      <td>3.482508</td>\n",
       "      <td>-0.796784</td>\n",
       "      <td>0.424275</td>\n",
       "      <td>0.362033</td>\n",
       "      <td>0.462106</td>\n",
       "      <td>0.050856</td>\n",
       "      <td>-0.976288</td>\n",
       "      <td>1.387396</td>\n",
       "      <td>0.301245</td>\n",
       "    </tr>\n",
       "    <tr>\n",
       "      <th>1</th>\n",
       "      <td>0.646735</td>\n",
       "      <td>-0.237244</td>\n",
       "      <td>-2.222673</td>\n",
       "      <td>-1.623791</td>\n",
       "      <td>0.362033</td>\n",
       "      <td>-2.164007</td>\n",
       "      <td>0.050856</td>\n",
       "      <td>-2.067429</td>\n",
       "      <td>-1.848408</td>\n",
       "      <td>1.037939</td>\n",
       "    </tr>\n",
       "    <tr>\n",
       "      <th>2</th>\n",
       "      <td>0.094606</td>\n",
       "      <td>0.004478</td>\n",
       "      <td>-0.226429</td>\n",
       "      <td>0.991570</td>\n",
       "      <td>0.362033</td>\n",
       "      <td>0.462106</td>\n",
       "      <td>0.050856</td>\n",
       "      <td>1.241006</td>\n",
       "      <td>0.549894</td>\n",
       "      <td>-1.881841</td>\n",
       "    </tr>\n",
       "    <tr>\n",
       "      <th>3</th>\n",
       "      <td>-0.122899</td>\n",
       "      <td>0.065933</td>\n",
       "      <td>0.153808</td>\n",
       "      <td>0.201378</td>\n",
       "      <td>-2.762178</td>\n",
       "      <td>0.462106</td>\n",
       "      <td>0.050856</td>\n",
       "      <td>0.628333</td>\n",
       "      <td>-0.329484</td>\n",
       "      <td>0.071783</td>\n",
       "    </tr>\n",
       "    <tr>\n",
       "      <th>4</th>\n",
       "      <td>-0.750317</td>\n",
       "      <td>0.184746</td>\n",
       "      <td>0.248868</td>\n",
       "      <td>0.189317</td>\n",
       "      <td>0.362033</td>\n",
       "      <td>0.462106</td>\n",
       "      <td>0.050856</td>\n",
       "      <td>0.015659</td>\n",
       "      <td>-0.451619</td>\n",
       "      <td>-2.031619</td>\n",
       "    </tr>\n",
       "  </tbody>\n",
       "</table>\n",
       "</div>"
      ],
      "text/plain": [
       "   dif_Rank  dif_RankP  dif_Height   dif_Age    w_hand    l_hand  dif_Minutes  \\\n",
       "0 -0.457522   3.482508   -0.796784  0.424275  0.362033  0.462106     0.050856   \n",
       "1  0.646735  -0.237244   -2.222673 -1.623791  0.362033 -2.164007     0.050856   \n",
       "2  0.094606   0.004478   -0.226429  0.991570  0.362033  0.462106     0.050856   \n",
       "3 -0.122899   0.065933    0.153808  0.201378 -2.762178  0.462106     0.050856   \n",
       "4 -0.750317   0.184746    0.248868  0.189317  0.362033  0.462106     0.050856   \n",
       "\n",
       "   dif_Aces    dif_Df  dif_1stIn  \n",
       "0 -0.976288  1.387396   0.301245  \n",
       "1 -2.067429 -1.848408   1.037939  \n",
       "2  1.241006  0.549894  -1.881841  \n",
       "3  0.628333 -0.329484   0.071783  \n",
       "4  0.015659 -0.451619  -2.031619  "
      ]
     },
     "execution_count": 198,
     "metadata": {},
     "output_type": "execute_result"
    }
   ],
   "source": [
    "X.head()"
   ]
  },
  {
   "cell_type": "markdown",
   "metadata": {},
   "source": [
    "     Al haber reducido el tamaño de la muestra de manera sensible, la varianza ha aumentado de  manera muy importante. Esto podemos verlo claramente al hacer cross validation."
   ]
  },
  {
   "cell_type": "markdown",
   "metadata": {},
   "source": [
    "## 8.4. Aplicamos el modelo con mejot accuracy: SVM"
   ]
  },
  {
   "cell_type": "code",
   "execution_count": 199,
   "metadata": {
    "collapsed": true
   },
   "outputs": [],
   "source": [
    "from sklearn.svm import SVC\n",
    "from sklearn.model_selection import train_test_split\n",
    "from sklearn.metrics import accuracy_score\n",
    "from sklearn.model_selection import cross_val_score\n",
    "import matplotlib.pyplot as plt\n",
    "%matplotlib inline\n",
    "import numpy as np"
   ]
  },
  {
   "cell_type": "code",
   "execution_count": 200,
   "metadata": {
    "collapsed": true
   },
   "outputs": [],
   "source": [
    "X = TennisDFnorm_X\n",
    "y = TennisDF['Y']"
   ]
  },
  {
   "cell_type": "code",
   "execution_count": 201,
   "metadata": {},
   "outputs": [
    {
     "data": {
      "text/plain": [
       "SVC(C=1.0, cache_size=200, class_weight=None, coef0=0.0,\n",
       "  decision_function_shape=None, degree=3, gamma='auto', kernel='rbf',\n",
       "  max_iter=-1, probability=False, random_state=None, shrinking=True,\n",
       "  tol=0.001, verbose=False)"
      ]
     },
     "execution_count": 201,
     "metadata": {},
     "output_type": "execute_result"
    }
   ],
   "source": [
    "clf = SVC()\n",
    "clf.fit(X, y)"
   ]
  },
  {
   "cell_type": "code",
   "execution_count": 202,
   "metadata": {},
   "outputs": [
    {
     "data": {
      "text/plain": [
       "SVC(C=1.0, cache_size=200, class_weight=None, coef0=0.0,\n",
       "  decision_function_shape=None, degree=3, gamma='auto', kernel='rbf',\n",
       "  max_iter=-1, probability=False, random_state=None, shrinking=True,\n",
       "  tol=0.001, verbose=False)"
      ]
     },
     "execution_count": 202,
     "metadata": {},
     "output_type": "execute_result"
    }
   ],
   "source": [
    "X_train, X_test, y_train, y_test = train_test_split(X,y)\n",
    "clf = SVC(kernel='rbf')\n",
    "clf.fit(X_train,y_train)"
   ]
  },
  {
   "cell_type": "code",
   "execution_count": 225,
   "metadata": {
    "scrolled": true
   },
   "outputs": [
    {
     "data": {
      "text/plain": [
       "0.81355932203389836"
      ]
     },
     "execution_count": 225,
     "metadata": {},
     "output_type": "execute_result"
    }
   ],
   "source": [
    "accuracy_score(y_test,clf.predict(X_test))"
   ]
  },
  {
   "cell_type": "markdown",
   "metadata": {},
   "source": [
    "     Como era de preveer el accuracy obtenido es sensiblemente inferior al obtenido en el test."
   ]
  },
  {
   "cell_type": "code",
   "execution_count": 219,
   "metadata": {},
   "outputs": [
    {
     "data": {
      "text/plain": [
       "array([ 0.83333333,  0.83333333,  0.91666667,  0.75      ,  0.75      ,\n",
       "        0.66666667,  0.5       ,  0.5       ,  0.75      ,  0.75      ,\n",
       "        0.91666667,  0.75      ,  0.83333333,  0.75      ,  0.91666667,\n",
       "        0.72727273,  0.63636364,  0.90909091,  0.7       ,  0.8       ])"
      ]
     },
     "execution_count": 219,
     "metadata": {},
     "output_type": "execute_result"
    }
   ],
   "source": [
    "cross_val_score(clf,X,y,cv=20)"
   ]
  },
  {
   "cell_type": "code",
   "execution_count": 220,
   "metadata": {},
   "outputs": [
    {
     "data": {
      "text/plain": [
       "0.76844532279314892"
      ]
     },
     "execution_count": 220,
     "metadata": {},
     "output_type": "execute_result"
    }
   ],
   "source": [
    "np.average(cross_val_score(clf,X,y,cv=10))"
   ]
  },
  {
   "cell_type": "markdown",
   "metadata": {},
   "source": [
    "     Completamos el analisis: Mostramos la matriz de confusion y calculamos los índices:\n",
    "\n",
    "**Precision** = True Positives / True Positives + False Positives\n",
    "\n",
    "**Recall** = True positives / True Positives + False Negatives"
   ]
  },
  {
   "cell_type": "code",
   "execution_count": 206,
   "metadata": {
    "collapsed": true
   },
   "outputs": [],
   "source": [
    "from sklearn.metrics import confusion_matrix\n",
    "from sklearn import metrics"
   ]
  },
  {
   "cell_type": "code",
   "execution_count": 221,
   "metadata": {
    "collapsed": true
   },
   "outputs": [],
   "source": [
    "mat = confusion_matrix(y_test,clf.predict(X_test))\n",
    "dfmat = pd.DataFrame(mat,index = [\"Win\",\"Lose\"],\n",
    "                  columns = [\"Win\",\"Lose\"])"
   ]
  },
  {
   "cell_type": "code",
   "execution_count": 222,
   "metadata": {
    "scrolled": true
   },
   "outputs": [
    {
     "data": {
      "image/png": "[encoded data removed]",
      "text/plain": [
       "<matplotlib.figure.Figure at 0x10fcbc510>"
      ]
     },
     "metadata": {},
     "output_type": "display_data"
    }
   ],
   "source": [
    "sns.heatmap(dfmat,annot=True)\n",
    "plt.ylabel('Win label')\n",
    "plt.xlabel('Lose label')\n",
    "plt.show()"
   ]
  },
  {
   "cell_type": "code",
   "execution_count": 223,
   "metadata": {},
   "outputs": [
    {
     "name": "stdout",
     "output_type": "stream",
     "text": [
      "    De los partidos que hemos clasificados como ganadores, el 0.838710 tuvieron ese resultado. En total clasificamos \n",
      "correctamente el 0.812500, de todos los partidos con categoría ganador. \n"
     ]
    }
   ],
   "source": [
    "Precision = float(dfmat.iloc[0,0]) / (float(dfmat.iloc[0,0] + dfmat.iloc[0,1]))\n",
    "Precision\n",
    "Recall = float(dfmat.iloc[0,0]) / (float(dfmat.iloc[0,0] + dfmat.iloc[1,0]))\n",
    "Recall\n",
    "print \"\"\"    De los partidos que hemos clasificados como ganadores, el %f tuvieron ese resultado. En total clasificamos \n",
    "correctamente el %f, de todos los partidos con categoría ganador. \"\"\" %(Precision, Recall)\n"
   ]
  },
  {
   "cell_type": "code",
   "execution_count": 224,
   "metadata": {},
   "outputs": [
    {
     "data": {
      "text/plain": [
       "0.8253968253968254"
      ]
     },
     "execution_count": 224,
     "metadata": {},
     "output_type": "execute_result"
    }
   ],
   "source": [
    "F1score = (2*float(dfmat.iloc[0,0]))/((2*float(dfmat.iloc[0,0])+float(dfmat.iloc[0,1])+float(dfmat.iloc[1,0])))\n",
    "F1score"
   ]
  },
  {
   "cell_type": "markdown",
   "metadata": {},
   "source": [
    "     Este sería el punto óptimo de la curva precisión-recall. El F1 score, coincide practicamente con el accuracy score obtenido anteriormente."
   ]
  },
  {
   "cell_type": "markdown",
   "metadata": {},
   "source": [
    "**Vamos a dibujar la precision-recall curve:**"
   ]
  },
  {
   "cell_type": "code",
   "execution_count": 211,
   "metadata": {
    "collapsed": true
   },
   "outputs": [],
   "source": [
    "from sklearn.metrics import precision_recall_curve\n",
    "import matplotlib.pyplot as plt\n",
    "from sklearn.metrics import average_precision_score"
   ]
  },
  {
   "cell_type": "code",
   "execution_count": 212,
   "metadata": {
    "collapsed": true
   },
   "outputs": [],
   "source": [
    "y_score = clf.decision_function(X_test)\n",
    "average_precision = average_precision_score(y_test, y_score)"
   ]
  },
  {
   "cell_type": "code",
   "execution_count": 213,
   "metadata": {
    "scrolled": true
   },
   "outputs": [
    {
     "data": {
      "image/png": "[encoded data removed]",
      "text/plain": [
       "<matplotlib.figure.Figure at 0x110fa62d0>"
      ]
     },
     "metadata": {},
     "output_type": "display_data"
    }
   ],
   "source": [
    "plt.figure(figsize=(10,5))\n",
    "precision, recall, _ = precision_recall_curve(y_test, y_score)\n",
    "\n",
    "plt.step(recall, precision, color='b', alpha=0.2,\n",
    "         where='post')\n",
    "plt.fill_between(recall, precision, step='post', alpha=0.2,\n",
    "                 color='b')\n",
    "\n",
    "plt.xlabel('Recall')\n",
    "plt.ylabel('Precision')\n",
    "plt.ylim([0.0, 1.05])\n",
    "plt.xlim([0.0, 1.0])\n",
    "plt.title('2-class Precision-Recall curve: AP={0:0.2f}'.format(average_precision))\n",
    "plt.plot([1, 0], [0, 1], color='navy', lw=2, linestyle='--')\n",
    "plt.plot([1, 0], [1, 1], color='red', lw=2, linestyle='--')\n",
    "plt.plot([1, 1], [1, 0], color='red', lw=2, linestyle='--')\n",
    "plt.show()"
   ]
  },
  {
   "cell_type": "markdown",
   "metadata": {},
   "source": [
    "     Como vimos con anterioridad, el punto de la curva 0.838 , 0.8125 que arroja el modelo como óptimo corresponde al vértice de la curva.\n",
    "     La linea roja es AUC=1 o valor de diagnostico perfecto, mientras que la linea morada es AUC=0.90 o el diagnostico del modelo de test. Un diagnostico superior al 0.75 se puede considerar bueno. Un diganostico del 0.90 significa que hay un 90% más de probabilidades de que nuestra clasificación sea correcta que si hicieramos una elección al azar (AUC=0.50, linea azul)"
   ]
  },
  {
   "cell_type": "code",
   "execution_count": null,
   "metadata": {
    "collapsed": true
   },
   "outputs": [],
   "source": []
  }
 ],
 "metadata": {
  "anaconda-cloud": {},
  "kernelspec": {
   "display_name": "Python [default]",
   "language": "python",
   "name": "python2"
  },
  "language_info": {
   "codemirror_mode": {
    "name": "ipython",
    "version": 2
   },
   "file_extension": ".py",
   "mimetype": "text/x-python",
   "name": "python",
   "nbconvert_exporter": "python",
   "pygments_lexer": "ipython2",
   "version": "2.7.12"
  }
 },
 "nbformat": 4,
 "nbformat_minor": 2
}
