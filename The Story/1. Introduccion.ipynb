{
 "cells": [
  {
   "cell_type": "markdown",
   "metadata": {},
   "source": [
    "## 1. Introduction:"
   ]
  },
  {
   "cell_type": "markdown",
   "metadata": {},
   "source": [
    "### 1.1. Objetivo del Proyecto:"
   ]
  },
  {
   "cell_type": "markdown",
   "metadata": {
    "collapsed": true
   },
   "source": [
    "     El objetivo del proyecto es hacer un analisis detallado de algunas técnicas de Machine Learning para conocer sus características, ventajas y su forma de actuar. Para ello vamos a tratar de hacer un modelo con datos de partidos de Tenis con buscando por un lado de maximizar el acierto en la previsión del resultado y en ampliaciones posteriores de este trabajo de maximizar el retorno de una hipotetiva inversión (ROI) a través de apuestas deportivas."
   ]
  },
  {
   "cell_type": "markdown",
   "metadata": {},
   "source": [
    "### 1.2. Nociones previas de tennis y apuestas deportivas:"
   ]
  },
  {
   "cell_type": "markdown",
   "metadata": {},
   "source": [
    "    a) El deporte:\n",
    "    \n",
    "     El tenis es uno de los deportes más populares y que más dinero mueven, esto hace que exista mucha información sobre partidos, jugadores, apuestas, etc. Además el modelo de juego es óptimo para estudiarlo a traves de modelos de clasificación ya que solo son posibles dos resultado, victoria o derrota. El sistema de juego y puntuación está estructurado de tal forma que las estadísticas de los partidos por lo general son muy comparables.\n",
    "     \n",
    "     Como contra, el tenis se ve afectado especialmente por las lesiones y los amaños, lo cual puede distorsionar nuestras estadísticas. Los deportes de equipo u otros en los que se compite con varios rivales no se ven tan afectados por estos porblemas."
   ]
  },
  {
   "cell_type": "markdown",
   "metadata": {},
   "source": [
    "     b) Las apuestas:\n",
    "     \n",
    "     Las apuestas deportivas son unas de las apuestas más antiguas. Sin embargo no ha sido hasta la expansión de internet durante la primera decada de este siglo cuando han empezado a tener la importancia que tienen hoy. Es por ello que no tenemos información anterior a 2004.\n",
    "     \n",
    "     El sistema de juego del tenis y su putuación le hacen uno de los deportes favoritos para los apostadores. Existen multitud de estudios con el objetivo de poder predecir el resultado de los partidos. Estos han ido evolucionando a lo largo del tiempo. Actualmente cada vez es más habitual encontrar en internet trabajos que tratan de modelizar a través de algoritmos de clasificación o incluso de Redes de Neuronas con este objetivo."
   ]
  },
  {
   "cell_type": "markdown",
   "metadata": {},
   "source": [
    "**Bibliografia:**\n",
    "\n",
    "     https://github.com/ISANJUA/TFM_ML4sportsBets\n",
    "     http://www-bcf.usc.edu/~gareth/ISL/ISLR%20First%20Printing.pdf\n",
    "     https://es.wikipedia.org/wiki/Glosario_de_t%C3%A9rminos_del_tenis"
   ]
  }
 ],
 "metadata": {
  "anaconda-cloud": {},
  "kernelspec": {
   "display_name": "Python [default]",
   "language": "python",
   "name": "python2"
  },
  "language_info": {
   "codemirror_mode": {
    "name": "ipython",
    "version": 2
   },
   "file_extension": ".py",
   "mimetype": "text/x-python",
   "name": "python",
   "nbconvert_exporter": "python",
   "pygments_lexer": "ipython2",
   "version": "2.7.12"
  }
 },
 "nbformat": 4,
 "nbformat_minor": 2
}
