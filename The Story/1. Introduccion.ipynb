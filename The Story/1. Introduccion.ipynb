{
 "cells": [
  {
   "cell_type": "markdown",
   "metadata": {},
   "source": [
    "## 1. Introduction:"
   ]
  },
  {
   "cell_type": "markdown",
   "metadata": {},
   "source": [
    "### 1.1. Objetivo del Proyecto:"
   ]
  },
  {
   "cell_type": "markdown",
   "metadata": {
    "collapsed": true
   },
   "source": [
    "     El objetivo del proyecto es hacer un analisis detallado de algunas técnicas de Machine Learning para conocer sus características, ventajas y su forma de actuar. Para ello vamos a tratar de hacer un modelo con datos de partidos de Tenis con el objetivo por un lado de maximizar el acierto en la previsión del resultado y en ampliaciones posteriores de este trabajo de maximizar el retorno de una hipotetiva inversión (ROI) a través de apuestas deportivas."
   ]
  },
  {
   "cell_type": "markdown",
   "metadata": {},
   "source": [
    "### 2.2. Nociones previas de tennis y apuestas deportivas:"
   ]
  },
  {
   "cell_type": "markdown",
   "metadata": {},
   "source": [
    "    a) El deporte:"
   ]
  },
  {
   "cell_type": "markdown",
   "metadata": {},
   "source": [
    "     b) Las apuestas:"
   ]
  },
  {
   "cell_type": "markdown",
   "metadata": {},
   "source": [
    "     Bibliografia:\n",
    "     https://github.com/ISANJUA/TFM_ML4sportsBets\n",
    "     http://www.oncourt.info/index.html\n",
    "     http://www.tennis-data.co.uk/\n",
    "     http://www.tennisabstract.com/ \n",
    "     https://es.wikipedia.org/wiki/Glosario_de_t%C3%A9rminos_del_tenis\n",
    "     https://github.com/JeffSackmann/tennis_atp\n",
    "     http://www.tennislive.net/atp"
   ]
  },
  {
   "cell_type": "code",
   "execution_count": null,
   "metadata": {
    "collapsed": true
   },
   "outputs": [],
   "source": []
  }
 ],
 "metadata": {
  "anaconda-cloud": {},
  "kernelspec": {
   "display_name": "Python [default]",
   "language": "python",
   "name": "python2"
  },
  "language_info": {
   "codemirror_mode": {
    "name": "ipython",
    "version": 2
   },
   "file_extension": ".py",
   "mimetype": "text/x-python",
   "name": "python",
   "nbconvert_exporter": "python",
   "pygments_lexer": "ipython2",
   "version": "2.7.12"
  }
 },
 "nbformat": 4,
 "nbformat_minor": 2
}
