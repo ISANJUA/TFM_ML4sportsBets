{
 "cells": [
  {
   "cell_type": "markdown",
   "metadata": {},
   "source": [
    "# 3. Feature Extraction, Transformations and Load: "
   ]
  },
  {
   "cell_type": "markdown",
   "metadata": {},
   "source": [
    "     En este notebook vamos a recoger los datos de su origen, a darles formato, analizarlos y limpiarlos para poder utilizarlos en nuestros modelos."
   ]
  },
  {
   "cell_type": "code",
   "execution_count": 270,
   "metadata": {
    "collapsed": true
   },
   "outputs": [],
   "source": [
    "import pandas as pd\n",
    "import matplotlib.pyplot as plt\n",
    "import matplotlib\n",
    "import numpy as np\n",
    "import seaborn as sns\n",
    "%matplotlib inline\n",
    "matplotlib.style.use(\"ggplot\")"
   ]
  },
  {
   "cell_type": "code",
   "execution_count": 271,
   "metadata": {
    "collapsed": true
   },
   "outputs": [],
   "source": [
    "pd.set_option('display.max_columns', None)"
   ]
  },
  {
   "cell_type": "markdown",
   "metadata": {},
   "source": [
    "## 3.1. Data Quality: nans, wrong data, etc."
   ]
  },
  {
   "cell_type": "markdown",
   "metadata": {},
   "source": [
    "### 3.1.1. Carga de información y eliminación de información inservible:"
   ]
  },
  {
   "cell_type": "markdown",
   "metadata": {},
   "source": [
    "     Vamos a utilizar los data sets desde el 2000 hasta el 2016. Creamos un algoritmo que sea capaz de cargar y concatenar todos los archivos a la vez, previo a  empezar la limpieza. \n",
    "     \n",
    "     Los datos de 2017 los utilizaremos al final del proyecto con el algoritmo que hayamos preparado:"
   ]
  },
  {
   "cell_type": "code",
   "execution_count": 272,
   "metadata": {
    "collapsed": true
   },
   "outputs": [],
   "source": [
    "import glob"
   ]
  },
  {
   "cell_type": "code",
   "execution_count": 273,
   "metadata": {
    "collapsed": true
   },
   "outputs": [],
   "source": [
    "path =r'../tennis_atp-master/Prueba' # use your path\n",
    "allFiles = glob.glob(path + \"/*.csv\")\n",
    "frame = pd.DataFrame()\n",
    "list_ = []\n",
    "for file_ in allFiles:\n",
    "    df = pd.read_csv(file_,index_col=None, header=0)\n",
    "    list_.append(df)\n",
    "frame = pd.concat(list_)"
   ]
  },
  {
   "cell_type": "markdown",
   "metadata": {},
   "source": [
    "     Despues de analizar el data set, he detectado datos incorrectos o dudosos en algunas categorías. Aplico el proceso de limpieza que hemos dictaminado como necesario:"
   ]
  },
  {
   "cell_type": "code",
   "execution_count": 274,
   "metadata": {
    "collapsed": true
   },
   "outputs": [],
   "source": [
    "# 1. Take out matchs from Davies Cup:\n",
    "framesD = frame[frame['tourney_level'] != 'D']\n",
    "# 2. Take out matchs from Challenge CUP:\n",
    "framesDC = framesD[framesD['tourney_level'] != 'C']\n",
    "# 3.1. Take out marchs'W/O' (Walk Over):\n",
    "framesDCWO = framesDC[framesDC['score'] != 'W/O']\n",
    "# 3.2. Take out marchs' W/O' (Walk Over):\n",
    "framesDCWO = framesDCWO[framesDCWO['score'] != ' W/O']\n",
    "# 4. Take out matchs with high volume of NaNs:\n",
    "framesDCWO2 = framesDCWO.dropna(axis=0, thresh=30)"
   ]
  },
  {
   "cell_type": "code",
   "execution_count": 275,
   "metadata": {},
   "outputs": [
    {
     "name": "stdout",
     "output_type": "stream",
     "text": [
      "    Hemos eliminado 6035 partidos sobre un total de 53120, lo que supone un 0.113611 \n"
     ]
    }
   ],
   "source": [
    "x = frame.shape\n",
    "y = framesDCWO2.shape\n",
    "Limpieza = x[0] - y[0]\n",
    "Limpieza2 = (float(Limpieza) / float(x[0]))\n",
    "print \"    Hemos eliminado %d partidos sobre un total de %d, lo que supone un %f \" %((Limpieza), x[0], (Limpieza2))\n"
   ]
  },
  {
   "cell_type": "markdown",
   "metadata": {},
   "source": [
    "     Voy a empezar limpiando el data set de todos aquellos campos que no vamos a utilizar, y creando alguna columna que utilizare en algun momento para crear otras variables."
   ]
  },
  {
   "cell_type": "code",
   "execution_count": 276,
   "metadata": {},
   "outputs": [
    {
     "name": "stderr",
     "output_type": "stream",
     "text": [
      "/Users/NachoSJ/anaconda/lib/python2.7/site-packages/ipykernel/__main__.py:2: SettingWithCopyWarning:\n",
      "\n",
      "\n",
      "A value is trying to be set on a copy of a slice from a DataFrame\n",
      "\n",
      "See the caveats in the documentation: http://pandas.pydata.org/pandas-docs/stable/indexing.html#indexing-view-versus-copy\n",
      "\n",
      "/Users/NachoSJ/anaconda/lib/python2.7/site-packages/ipykernel/__main__.py:3: SettingWithCopyWarning:\n",
      "\n",
      "\n",
      "A value is trying to be set on a copy of a slice from a DataFrame.\n",
      "Try using .loc[row_indexer,col_indexer] = value instead\n",
      "\n",
      "See the caveats in the documentation: http://pandas.pydata.org/pandas-docs/stable/indexing.html#indexing-view-versus-copy\n",
      "\n"
     ]
    },
    {
     "data": {
      "text/plain": [
       "(47085, 46)"
      ]
     },
     "execution_count": 276,
     "metadata": {},
     "output_type": "execute_result"
    }
   ],
   "source": [
    "columns = ['winner_seed', 'loser_seed', 'winner_entry', 'loser_entry']\n",
    "framesDCWO2.drop(columns, inplace=True, axis=1) \n",
    "framesDCWO2['TotalGames'] = framesDCWO2['w_SvGms'] + framesDCWO2['l_SvGms']\n",
    "framesDCWO2.shape"
   ]
  },
  {
   "cell_type": "markdown",
   "metadata": {},
   "source": [
    "### 3.1.2. Completar datos y crear nuevas features:"
   ]
  },
  {
   "cell_type": "markdown",
   "metadata": {},
   "source": [
    "**i. New Feature creation: Retired**"
   ]
  },
  {
   "cell_type": "markdown",
   "metadata": {},
   "source": [
    "     Esta variable contempla aquellos partidos que no terminaron. Estos partidos están indicados en score, el campo que contiene el resultado, como retired:"
   ]
  },
  {
   "cell_type": "code",
   "execution_count": 277,
   "metadata": {},
   "outputs": [
    {
     "name": "stderr",
     "output_type": "stream",
     "text": [
      "/Users/NachoSJ/anaconda/lib/python2.7/site-packages/ipykernel/__main__.py:10: SettingWithCopyWarning:\n",
      "\n",
      "\n",
      "A value is trying to be set on a copy of a slice from a DataFrame.\n",
      "Try using .loc[row_indexer,col_indexer] = value instead\n",
      "\n",
      "See the caveats in the documentation: http://pandas.pydata.org/pandas-docs/stable/indexing.html#indexing-view-versus-copy\n",
      "\n"
     ]
    }
   ],
   "source": [
    "Retired = []\n",
    "for row in framesDCWO2['score']:\n",
    "    if 'RET' in row:\n",
    "        # Append 1\n",
    "        Retired.append(1)\n",
    "    # else, if not append 0,\n",
    "    else:\n",
    "        Retired.append(0)\n",
    "# Create a column from the list\n",
    "framesDCWO2['Retired'] = Retired"
   ]
  },
  {
   "cell_type": "code",
   "execution_count": 278,
   "metadata": {},
   "outputs": [
    {
     "data": {
      "text/plain": [
       "(1498, 47)"
      ]
     },
     "execution_count": 278,
     "metadata": {},
     "output_type": "execute_result"
    }
   ],
   "source": [
    "Ret = framesDCWO2[framesDCWO2['Retired'] == 1 ]\n",
    "Ret.shape"
   ]
  },
  {
   "cell_type": "code",
   "execution_count": 279,
   "metadata": {},
   "outputs": [
    {
     "name": "stdout",
     "output_type": "stream",
     "text": [
      "     El data set tiene 1498 partidos no terminados por Retired sobre un total de 47085,\n",
      "   lo que supone un 0.031815\n"
     ]
    }
   ],
   "source": [
    "print \"\"\"     El data set tiene %d partidos no terminados por Retired sobre un total de %d,\n",
    "   lo que supone un %f\"\"\" %(len(Ret.index),len(framesDCWO2.index), (float(len(Ret.index))/float(len(framesDCWO2.index))))"
   ]
  },
  {
   "cell_type": "markdown",
   "metadata": {},
   "source": [
    "     Estos partidos seguramente tendran las estadisticas condicionadas. Por tanto debemos quitarlos para evitar que contaminen el resto de partidos."
   ]
  },
  {
   "cell_type": "code",
   "execution_count": 280,
   "metadata": {
    "scrolled": true
   },
   "outputs": [
    {
     "data": {
      "text/plain": [
       "(45587, 47)"
      ]
     },
     "execution_count": 280,
     "metadata": {},
     "output_type": "execute_result"
    }
   ],
   "source": [
    "framesDCWO2 = framesDCWO2[framesDCWO2['Retired'] != 1]\n",
    "framesDCWO2.shape"
   ]
  },
  {
   "cell_type": "markdown",
   "metadata": {},
   "source": [
    "**ii. New feature creation: Hand** (1 - Right hand, 0 - Left Hand)"
   ]
  },
  {
   "cell_type": "code",
   "execution_count": 281,
   "metadata": {
    "collapsed": true
   },
   "outputs": [],
   "source": [
    "Hand = {'R': 1,'L': 0}\n",
    "framesDCWO2[\"w_hand\"] = np.nan\n",
    "framesDCWO2[\"l_hand\"] = np.nan\n",
    "framesDCWO2['w_hand'] = framesDCWO2['w_hand'].fillna(framesDCWO2['winner_hand'].map(Hand))\n",
    "framesDCWO2['l_hand'] = framesDCWO2['l_hand'].fillna(framesDCWO2['loser_hand'].map(Hand))"
   ]
  },
  {
   "cell_type": "markdown",
   "metadata": {},
   "source": [
    "     Voy a crear primero todos los pares de features y no haré las diferencias hasta el final. El motivo es que el dataset siempre esta ordenado con winner loser por tanto si aplicara la formula a-b a todo el dataset la Y siempre sería 1, es decir el resultado sería siempre victoria, y el modelo no funcionaria correctamente.\n",
    " \n",
    "     Para solucionar este problema y poder incluir en el modelo partidos con el target 0, voy a aprovechar la simetría de mi modelo. Dividiré el data set en 2 utilizando la lógica siguiente para cada una de las partes:\n",
    " \n",
    "     1 = winner - loser                  \n",
    "     0 = - winner + loser\n",
    "\n",
    "    De esta forma voy a obtener un data set con resultados en ambos sentidos"
   ]
  },
  {
   "cell_type": "markdown",
   "metadata": {},
   "source": [
    "**iii. New feature creation: Best of** (1 - 3 sets, 0 - 5 sets)"
   ]
  },
  {
   "cell_type": "code",
   "execution_count": 282,
   "metadata": {
    "collapsed": true
   },
   "outputs": [],
   "source": [
    "Sets = {'5': 1,'3': 0}\n",
    "framesDCWO2['best_of'] = framesDCWO2['best_of'].astype(str)\n",
    "framesDCWO2['Total_Sets'] = np.nan\n",
    "framesDCWO2['Total_Sets'] = framesDCWO2['Total_Sets'].fillna(framesDCWO2['best_of'].map(Sets))\n",
    "framesDCWO2['Total_Sets'] = framesDCWO2['Total_Sets'].astype(int)"
   ]
  },
  {
   "cell_type": "markdown",
   "metadata": {},
   "source": [
    "**iiii. Solve *_ht (height) problem:**"
   ]
  },
  {
   "cell_type": "markdown",
   "metadata": {},
   "source": [
    "      Ahora tenemos que hacer un diccionario con todos los *_ht que faltan:"
   ]
  },
  {
   "cell_type": "code",
   "execution_count": 283,
   "metadata": {
    "scrolled": true
   },
   "outputs": [
    {
     "data": {
      "text/plain": [
       "tourney_id               0\n",
       "tourney_name             0\n",
       "surface                  0\n",
       "draw_size                0\n",
       "tourney_level            0\n",
       "tourney_date             0\n",
       "match_num                0\n",
       "winner_id                0\n",
       "winner_name              0\n",
       "winner_hand              0\n",
       "winner_ht             1383\n",
       "winner_ioc               0\n",
       "winner_age               0\n",
       "winner_rank            587\n",
       "winner_rank_points     587\n",
       "loser_id                 0\n",
       "loser_name               0\n",
       "loser_hand               0\n",
       "loser_ht              2545\n",
       "loser_ioc                0\n",
       "loser_age                2\n",
       "loser_rank             672\n",
       "loser_rank_points      672\n",
       "score                    0\n",
       "best_of                  0\n",
       "round                    0\n",
       "minutes               1247\n",
       "w_ace                    0\n",
       "w_df                     0\n",
       "w_svpt                   0\n",
       "w_1stIn                  0\n",
       "w_1stWon                 0\n",
       "w_2ndWon                 0\n",
       "w_SvGms                  0\n",
       "w_bpSaved                0\n",
       "w_bpFaced                0\n",
       "l_ace                    0\n",
       "l_df                     0\n",
       "l_svpt                   0\n",
       "l_1stIn                  0\n",
       "l_1stWon                 0\n",
       "l_2ndWon                 0\n",
       "l_SvGms                  0\n",
       "l_bpSaved                0\n",
       "l_bpFaced                0\n",
       "TotalGames               0\n",
       "Retired                  0\n",
       "w_hand                  52\n",
       "l_hand                 294\n",
       "Total_Sets               0\n",
       "dtype: int64"
      ]
     },
     "execution_count": 283,
     "metadata": {},
     "output_type": "execute_result"
    }
   ],
   "source": [
    "framesDCWO2.isnull().sum()"
   ]
  },
  {
   "cell_type": "code",
   "execution_count": 284,
   "metadata": {
    "collapsed": true
   },
   "outputs": [],
   "source": [
    "w_Names = {'Adrian Cruciat': 185,\n",
    " 'Alejandro Gonzalez': 191,\n",
    " 'Aleksandr Nedovyesov': 193,\n",
    " 'Alexander Zverev': 191,\n",
    " 'Alexandre Sidorenko': 185,\n",
    " 'Ante Pavic': 196,\n",
    " 'Augustin Gensse': 180,\n",
    " 'Austin Krajicek': 188,\n",
    " 'Axel Michon': 176,\n",
    " 'Bastian Knittel': 180,\n",
    " 'Blaz Rola': 193,\n",
    " 'Borna Coric': 185,\n",
    " 'Chris Eaton': 188,\n",
    " 'Christian Garin': 185,\n",
    " 'Christian Harrison': 180,\n",
    " 'Christian Lindell': 193,\n",
    " 'Chuhan Wang': 188,\n",
    " 'Daniel Kosakowski': 185,\n",
    " 'Daniel Munoz De La Nava': 178,\n",
    " 'Dennis Novikov': 193,\n",
    " 'Diego Sebastian Schwartzman': 170,\n",
    " 'Dimitar Kutrovsky': 175,\n",
    " 'Dominic Thiem': 185,\n",
    " 'Elias Ymer': 183,\n",
    " 'Emilio Gomez': 185,\n",
    " 'Facundo Bagnis': 183,\n",
    " 'Filip Peliwo': 178,\n",
    " 'Gianluca Naso': 193,\n",
    " 'Guido Pella': 185,\n",
    " 'Guillermo Olaso': 175,\n",
    " 'Gustavo Marcaccio': 170,\n",
    " 'Henri Kontinen': 191,\n",
    " 'Henri Laaksonen': 185,\n",
    " 'Hiroki Kondo': 178,\n",
    " 'Hiroki Moriya': 170,\n",
    " 'Inigo Cervantes Huegun': 183,\n",
    " 'Ivan Sergeyev': 175,\n",
    " 'Jamie Baker': 183,\n",
    " 'Jan Lennard Struff': 196,\n",
    " 'Jaroslav Pospisil': 178,\n",
    " 'Jason Kubler': 178,\n",
    " 'Javier Marti': 185,\n",
    " 'Jiri Vesely': 198,\n",
    " 'Joao Sousa': 185,\n",
    " 'Jonathan Dasnieres De Veigy': 175,\n",
    " 'Jonathan Marray': 183,\n",
    " 'Jorge Aguilar': 178,\n",
    " 'Karen Khachanov': 198,\n",
    " 'Kyle Edmund': 188,\n",
    " 'Laurent Recouderc': 178,\n",
    " 'Leonardo Tavares': 185,\n",
    " 'Lucas Pouille': 185,\n",
    " 'Luka Gregorc': 190,\n",
    " 'Luke Saville': 188,\n",
    " 'Marco Trungelliti': 180,\n",
    " 'Martin Alund': 183,\n",
    " 'Martin Fischer': 180,\n",
    " 'Marton Fucsovics': 188,\n",
    " 'Mate Delic': 196,\n",
    " 'Mate Pavic': 193,\n",
    " 'Mathieu Rodrigues': 180,\n",
    " 'Matteo Viola': 185,\n",
    " 'Maxime Teixeira': 188,\n",
    " 'Miloslav Mecir': 196,\n",
    " 'Mirza Basic': 188,\n",
    " 'Nick Kyrgios': 193,\n",
    " 'Nikola Milojevic': 188,\n",
    " 'Nils Langer': 193,\n",
    " 'Pablo Carreno Busta': 188,\n",
    " 'Patrik Rosenholm': 178,\n",
    " 'Pavol Cervenak': 191,\n",
    " 'Peng Sun': 184,\n",
    " 'Petar Jelenic': 190,\n",
    " 'Philip Davydenko': 183,\n",
    " 'Philipp Oswald': 201,\n",
    " 'Pierre Hugues Herbert': 188,\n",
    " 'Pierre Ludovic Duclos': 188,\n",
    " 'Radu Albot': 175,\n",
    " 'Rafael Arevalo': 180,\n",
    " 'Ramkumar Ramanathan': 188,\n",
    " 'Renzo Olivo': 180,\n",
    " 'Rhyne Williams': 185,\n",
    " 'Roberto Bautista Agut': 183,\n",
    " 'Roberto Carballes Baena': 180,\n",
    " 'Ruben Bemelmans': 183,\n",
    " 'Samuel Groth': 193,\n",
    " 'Sebastian Rieschick': 188,\n",
    " 'Sergei Bubka': 188,\n",
    " 'Takahiro Terachi': 174,\n",
    " 'Taro Daniel': 191,\n",
    " 'Thanasi Kokkinakis': 196,\n",
    " 'Tim Puetz': 185,\n",
    " 'Yan Bai': 185,\n",
    " 'Yannick Mertens': 188,\n",
    " 'Yuichi Sugita': 175,\n",
    " 'Ze Zhang': 188}"
   ]
  },
  {
   "cell_type": "code",
   "execution_count": 285,
   "metadata": {
    "collapsed": true,
    "scrolled": true
   },
   "outputs": [],
   "source": [
    "framesDCWO2['winner_ht'] = framesDCWO2['winner_ht'].fillna(framesDCWO2['winner_name'].map(w_Names))\n",
    "framesDCWO2['loser_ht'] = framesDCWO2['loser_ht'].fillna(framesDCWO2['loser_name'].map(w_Names))"
   ]
  },
  {
   "cell_type": "markdown",
   "metadata": {},
   "source": [
    "**v. Limpiez información:**"
   ]
  },
  {
   "cell_type": "markdown",
   "metadata": {},
   "source": [
    "    1. Limpiar de NaNs:"
   ]
  },
  {
   "cell_type": "code",
   "execution_count": 286,
   "metadata": {
    "collapsed": true
   },
   "outputs": [],
   "source": [
    "framesDCWO2 = framesDCWO2.dropna()"
   ]
  },
  {
   "cell_type": "code",
   "execution_count": 287,
   "metadata": {
    "scrolled": true
   },
   "outputs": [
    {
     "data": {
      "text/plain": [
       "tourney_id            0\n",
       "tourney_name          0\n",
       "surface               0\n",
       "draw_size             0\n",
       "tourney_level         0\n",
       "tourney_date          0\n",
       "match_num             0\n",
       "winner_id             0\n",
       "winner_name           0\n",
       "winner_hand           0\n",
       "winner_ht             0\n",
       "winner_ioc            0\n",
       "winner_age            0\n",
       "winner_rank           0\n",
       "winner_rank_points    0\n",
       "loser_id              0\n",
       "loser_name            0\n",
       "loser_hand            0\n",
       "loser_ht              0\n",
       "loser_ioc             0\n",
       "loser_age             0\n",
       "loser_rank            0\n",
       "loser_rank_points     0\n",
       "score                 0\n",
       "best_of               0\n",
       "round                 0\n",
       "minutes               0\n",
       "w_ace                 0\n",
       "w_df                  0\n",
       "w_svpt                0\n",
       "w_1stIn               0\n",
       "w_1stWon              0\n",
       "w_2ndWon              0\n",
       "w_SvGms               0\n",
       "w_bpSaved             0\n",
       "w_bpFaced             0\n",
       "l_ace                 0\n",
       "l_df                  0\n",
       "l_svpt                0\n",
       "l_1stIn               0\n",
       "l_1stWon              0\n",
       "l_2ndWon              0\n",
       "l_SvGms               0\n",
       "l_bpSaved             0\n",
       "l_bpFaced             0\n",
       "TotalGames            0\n",
       "Retired               0\n",
       "w_hand                0\n",
       "l_hand                0\n",
       "Total_Sets            0\n",
       "dtype: int64"
      ]
     },
     "execution_count": 287,
     "metadata": {},
     "output_type": "execute_result"
    }
   ],
   "source": [
    "framesDCWO2.isnull().sum()"
   ]
  },
  {
   "cell_type": "code",
   "execution_count": 288,
   "metadata": {},
   "outputs": [
    {
     "data": {
      "text/plain": [
       "(42629, 50)"
      ]
     },
     "execution_count": 288,
     "metadata": {},
     "output_type": "execute_result"
    }
   ],
   "source": [
    "framesDCWO2.shape"
   ]
  },
  {
   "cell_type": "markdown",
   "metadata": {},
   "source": [
    "    2. Buscar 0 en aquellas variables que puedan tenerlos para evitar generar Infinitos:"
   ]
  },
  {
   "cell_type": "code",
   "execution_count": 289,
   "metadata": {
    "scrolled": true
   },
   "outputs": [
    {
     "data": {
      "text/html": [
       "<div>\n",
       "<style>\n",
       "    .dataframe thead tr:only-child th {\n",
       "        text-align: right;\n",
       "    }\n",
       "\n",
       "    .dataframe thead th {\n",
       "        text-align: left;\n",
       "    }\n",
       "\n",
       "    .dataframe tbody tr th {\n",
       "        vertical-align: top;\n",
       "    }\n",
       "</style>\n",
       "<table border=\"1\" class=\"dataframe\">\n",
       "  <thead>\n",
       "    <tr style=\"text-align: right;\">\n",
       "      <th></th>\n",
       "      <th>tourney_id</th>\n",
       "      <th>tourney_name</th>\n",
       "      <th>surface</th>\n",
       "      <th>draw_size</th>\n",
       "      <th>tourney_level</th>\n",
       "      <th>tourney_date</th>\n",
       "      <th>match_num</th>\n",
       "      <th>winner_id</th>\n",
       "      <th>winner_name</th>\n",
       "      <th>winner_hand</th>\n",
       "      <th>winner_ht</th>\n",
       "      <th>winner_ioc</th>\n",
       "      <th>winner_age</th>\n",
       "      <th>winner_rank</th>\n",
       "      <th>winner_rank_points</th>\n",
       "      <th>loser_id</th>\n",
       "      <th>loser_name</th>\n",
       "      <th>loser_hand</th>\n",
       "      <th>loser_ht</th>\n",
       "      <th>loser_ioc</th>\n",
       "      <th>loser_age</th>\n",
       "      <th>loser_rank</th>\n",
       "      <th>loser_rank_points</th>\n",
       "      <th>score</th>\n",
       "      <th>best_of</th>\n",
       "      <th>round</th>\n",
       "      <th>minutes</th>\n",
       "      <th>w_ace</th>\n",
       "      <th>w_df</th>\n",
       "      <th>w_svpt</th>\n",
       "      <th>w_1stIn</th>\n",
       "      <th>w_1stWon</th>\n",
       "      <th>w_2ndWon</th>\n",
       "      <th>w_SvGms</th>\n",
       "      <th>w_bpSaved</th>\n",
       "      <th>w_bpFaced</th>\n",
       "      <th>l_ace</th>\n",
       "      <th>l_df</th>\n",
       "      <th>l_svpt</th>\n",
       "      <th>l_1stIn</th>\n",
       "      <th>l_1stWon</th>\n",
       "      <th>l_2ndWon</th>\n",
       "      <th>l_SvGms</th>\n",
       "      <th>l_bpSaved</th>\n",
       "      <th>l_bpFaced</th>\n",
       "      <th>TotalGames</th>\n",
       "      <th>Retired</th>\n",
       "      <th>w_hand</th>\n",
       "      <th>l_hand</th>\n",
       "      <th>Total_Sets</th>\n",
       "    </tr>\n",
       "  </thead>\n",
       "  <tbody>\n",
       "    <tr>\n",
       "      <th>2005</th>\n",
       "      <td>2009-580</td>\n",
       "      <td>Australian Open</td>\n",
       "      <td>Hard</td>\n",
       "      <td>128</td>\n",
       "      <td>G</td>\n",
       "      <td>20090119</td>\n",
       "      <td>92</td>\n",
       "      <td>103970</td>\n",
       "      <td>David Ferrer</td>\n",
       "      <td>R</td>\n",
       "      <td>175.0</td>\n",
       "      <td>ESP</td>\n",
       "      <td>26.800821</td>\n",
       "      <td>12.0</td>\n",
       "      <td>3390.0</td>\n",
       "      <td>103103</td>\n",
       "      <td>Dominik Hrbaty</td>\n",
       "      <td>R</td>\n",
       "      <td>183.0</td>\n",
       "      <td>SVK</td>\n",
       "      <td>31.041752</td>\n",
       "      <td>251.0</td>\n",
       "      <td>302.0</td>\n",
       "      <td>6-2 6-2 6-1</td>\n",
       "      <td>5</td>\n",
       "      <td>R64</td>\n",
       "      <td>90.0</td>\n",
       "      <td>1.0</td>\n",
       "      <td>0.0</td>\n",
       "      <td>18.0</td>\n",
       "      <td>12.0</td>\n",
       "      <td>11.0</td>\n",
       "      <td>3.0</td>\n",
       "      <td>0.0</td>\n",
       "      <td>0.0</td>\n",
       "      <td>0.0</td>\n",
       "      <td>0.0</td>\n",
       "      <td>0.0</td>\n",
       "      <td>16.0</td>\n",
       "      <td>7.0</td>\n",
       "      <td>4.0</td>\n",
       "      <td>4.0</td>\n",
       "      <td>4.0</td>\n",
       "      <td>0.0</td>\n",
       "      <td>2.0</td>\n",
       "      <td>4.0</td>\n",
       "      <td>0</td>\n",
       "      <td>1.0</td>\n",
       "      <td>1.0</td>\n",
       "      <td>1</td>\n",
       "    </tr>\n",
       "    <tr>\n",
       "      <th>414</th>\n",
       "      <td>2006-317</td>\n",
       "      <td>Amersfoort</td>\n",
       "      <td>Clay</td>\n",
       "      <td>32</td>\n",
       "      <td>A</td>\n",
       "      <td>20060717</td>\n",
       "      <td>8</td>\n",
       "      <td>105217</td>\n",
       "      <td>Thiemo De Bakker</td>\n",
       "      <td>R</td>\n",
       "      <td>193.0</td>\n",
       "      <td>NED</td>\n",
       "      <td>17.823409</td>\n",
       "      <td>1055.0</td>\n",
       "      <td>7.0</td>\n",
       "      <td>103898</td>\n",
       "      <td>Julien Benneteau</td>\n",
       "      <td>R</td>\n",
       "      <td>185.0</td>\n",
       "      <td>FRA</td>\n",
       "      <td>24.572211</td>\n",
       "      <td>53.0</td>\n",
       "      <td>711.0</td>\n",
       "      <td>6-3 6-3</td>\n",
       "      <td>3</td>\n",
       "      <td>R32</td>\n",
       "      <td>84.0</td>\n",
       "      <td>3.0</td>\n",
       "      <td>4.0</td>\n",
       "      <td>67.0</td>\n",
       "      <td>28.0</td>\n",
       "      <td>22.0</td>\n",
       "      <td>21.0</td>\n",
       "      <td>0.0</td>\n",
       "      <td>5.0</td>\n",
       "      <td>6.0</td>\n",
       "      <td>2.0</td>\n",
       "      <td>2.0</td>\n",
       "      <td>53.0</td>\n",
       "      <td>36.0</td>\n",
       "      <td>19.0</td>\n",
       "      <td>9.0</td>\n",
       "      <td>0.0</td>\n",
       "      <td>4.0</td>\n",
       "      <td>8.0</td>\n",
       "      <td>0.0</td>\n",
       "      <td>0</td>\n",
       "      <td>1.0</td>\n",
       "      <td>1.0</td>\n",
       "      <td>0</td>\n",
       "    </tr>\n",
       "  </tbody>\n",
       "</table>\n",
       "</div>"
      ],
      "text/plain": [
       "     tourney_id     tourney_name surface  draw_size tourney_level  \\\n",
       "2005   2009-580  Australian Open    Hard        128             G   \n",
       "414    2006-317       Amersfoort    Clay         32             A   \n",
       "\n",
       "      tourney_date  match_num  winner_id       winner_name winner_hand  \\\n",
       "2005      20090119         92     103970      David Ferrer           R   \n",
       "414       20060717          8     105217  Thiemo De Bakker           R   \n",
       "\n",
       "      winner_ht winner_ioc  winner_age  winner_rank  winner_rank_points  \\\n",
       "2005      175.0        ESP   26.800821         12.0              3390.0   \n",
       "414       193.0        NED   17.823409       1055.0                 7.0   \n",
       "\n",
       "      loser_id        loser_name loser_hand  loser_ht loser_ioc  loser_age  \\\n",
       "2005    103103    Dominik Hrbaty          R     183.0       SVK  31.041752   \n",
       "414     103898  Julien Benneteau          R     185.0       FRA  24.572211   \n",
       "\n",
       "      loser_rank  loser_rank_points        score best_of round  minutes  \\\n",
       "2005       251.0              302.0  6-2 6-2 6-1       5   R64     90.0   \n",
       "414         53.0              711.0      6-3 6-3       3   R32     84.0   \n",
       "\n",
       "      w_ace  w_df  w_svpt  w_1stIn  w_1stWon  w_2ndWon  w_SvGms  w_bpSaved  \\\n",
       "2005    1.0   0.0    18.0     12.0      11.0       3.0      0.0        0.0   \n",
       "414     3.0   4.0    67.0     28.0      22.0      21.0      0.0        5.0   \n",
       "\n",
       "      w_bpFaced  l_ace  l_df  l_svpt  l_1stIn  l_1stWon  l_2ndWon  l_SvGms  \\\n",
       "2005        0.0    0.0   0.0    16.0      7.0       4.0       4.0      4.0   \n",
       "414         6.0    2.0   2.0    53.0     36.0      19.0       9.0      0.0   \n",
       "\n",
       "      l_bpSaved  l_bpFaced  TotalGames  Retired  w_hand  l_hand  Total_Sets  \n",
       "2005        0.0        2.0         4.0        0     1.0     1.0           1  \n",
       "414         4.0        8.0         0.0        0     1.0     1.0           0  "
      ]
     },
     "execution_count": 289,
     "metadata": {},
     "output_type": "execute_result"
    }
   ],
   "source": [
    "framesDCWO2[framesDCWO2['w_SvGms'] == 0]"
   ]
  },
  {
   "cell_type": "code",
   "execution_count": 290,
   "metadata": {
    "scrolled": true
   },
   "outputs": [
    {
     "data": {
      "text/html": [
       "<div>\n",
       "<style>\n",
       "    .dataframe thead tr:only-child th {\n",
       "        text-align: right;\n",
       "    }\n",
       "\n",
       "    .dataframe thead th {\n",
       "        text-align: left;\n",
       "    }\n",
       "\n",
       "    .dataframe tbody tr th {\n",
       "        vertical-align: top;\n",
       "    }\n",
       "</style>\n",
       "<table border=\"1\" class=\"dataframe\">\n",
       "  <thead>\n",
       "    <tr style=\"text-align: right;\">\n",
       "      <th></th>\n",
       "      <th>tourney_id</th>\n",
       "      <th>tourney_name</th>\n",
       "      <th>surface</th>\n",
       "      <th>draw_size</th>\n",
       "      <th>tourney_level</th>\n",
       "      <th>tourney_date</th>\n",
       "      <th>match_num</th>\n",
       "      <th>winner_id</th>\n",
       "      <th>winner_name</th>\n",
       "      <th>winner_hand</th>\n",
       "      <th>winner_ht</th>\n",
       "      <th>winner_ioc</th>\n",
       "      <th>winner_age</th>\n",
       "      <th>winner_rank</th>\n",
       "      <th>winner_rank_points</th>\n",
       "      <th>loser_id</th>\n",
       "      <th>loser_name</th>\n",
       "      <th>loser_hand</th>\n",
       "      <th>loser_ht</th>\n",
       "      <th>loser_ioc</th>\n",
       "      <th>loser_age</th>\n",
       "      <th>loser_rank</th>\n",
       "      <th>loser_rank_points</th>\n",
       "      <th>score</th>\n",
       "      <th>best_of</th>\n",
       "      <th>round</th>\n",
       "      <th>minutes</th>\n",
       "      <th>w_ace</th>\n",
       "      <th>w_df</th>\n",
       "      <th>w_svpt</th>\n",
       "      <th>w_1stIn</th>\n",
       "      <th>w_1stWon</th>\n",
       "      <th>w_2ndWon</th>\n",
       "      <th>w_SvGms</th>\n",
       "      <th>w_bpSaved</th>\n",
       "      <th>w_bpFaced</th>\n",
       "      <th>l_ace</th>\n",
       "      <th>l_df</th>\n",
       "      <th>l_svpt</th>\n",
       "      <th>l_1stIn</th>\n",
       "      <th>l_1stWon</th>\n",
       "      <th>l_2ndWon</th>\n",
       "      <th>l_SvGms</th>\n",
       "      <th>l_bpSaved</th>\n",
       "      <th>l_bpFaced</th>\n",
       "      <th>TotalGames</th>\n",
       "      <th>Retired</th>\n",
       "      <th>w_hand</th>\n",
       "      <th>l_hand</th>\n",
       "      <th>Total_Sets</th>\n",
       "    </tr>\n",
       "  </thead>\n",
       "  <tbody>\n",
       "    <tr>\n",
       "      <th>1668</th>\n",
       "      <td>2008-580</td>\n",
       "      <td>Australian Open</td>\n",
       "      <td>Hard</td>\n",
       "      <td>128</td>\n",
       "      <td>G</td>\n",
       "      <td>20080114</td>\n",
       "      <td>49</td>\n",
       "      <td>104053</td>\n",
       "      <td>Andy Roddick</td>\n",
       "      <td>R</td>\n",
       "      <td>188.0</td>\n",
       "      <td>USA</td>\n",
       "      <td>25.374401</td>\n",
       "      <td>6.0</td>\n",
       "      <td>2530.0</td>\n",
       "      <td>104160</td>\n",
       "      <td>Lukas Dlouhy</td>\n",
       "      <td>R</td>\n",
       "      <td>185.0</td>\n",
       "      <td>CZE</td>\n",
       "      <td>24.766598</td>\n",
       "      <td>154.0</td>\n",
       "      <td>275.0</td>\n",
       "      <td>6-3 6-4 7-5</td>\n",
       "      <td>5</td>\n",
       "      <td>R128</td>\n",
       "      <td>98.0</td>\n",
       "      <td>13.0</td>\n",
       "      <td>2.0</td>\n",
       "      <td>89.0</td>\n",
       "      <td>58.0</td>\n",
       "      <td>44.0</td>\n",
       "      <td>18.0</td>\n",
       "      <td>16.0</td>\n",
       "      <td>5.0</td>\n",
       "      <td>7.0</td>\n",
       "      <td>7.0</td>\n",
       "      <td>12.0</td>\n",
       "      <td>88.0</td>\n",
       "      <td>49.0</td>\n",
       "      <td>33.0</td>\n",
       "      <td>16.0</td>\n",
       "      <td>0.0</td>\n",
       "      <td>6.0</td>\n",
       "      <td>11.0</td>\n",
       "      <td>16.0</td>\n",
       "      <td>0</td>\n",
       "      <td>1.0</td>\n",
       "      <td>1.0</td>\n",
       "      <td>1</td>\n",
       "    </tr>\n",
       "    <tr>\n",
       "      <th>2446</th>\n",
       "      <td>2011-747</td>\n",
       "      <td>Beijing</td>\n",
       "      <td>Hard</td>\n",
       "      <td>32</td>\n",
       "      <td>A</td>\n",
       "      <td>20111003</td>\n",
       "      <td>9</td>\n",
       "      <td>103344</td>\n",
       "      <td>Ivan Ljubicic</td>\n",
       "      <td>R</td>\n",
       "      <td>193.0</td>\n",
       "      <td>CRO</td>\n",
       "      <td>32.542094</td>\n",
       "      <td>26.0</td>\n",
       "      <td>1375.0</td>\n",
       "      <td>104559</td>\n",
       "      <td>Teymuraz Gabashvili</td>\n",
       "      <td>R</td>\n",
       "      <td>188.0</td>\n",
       "      <td>RUS</td>\n",
       "      <td>26.362765</td>\n",
       "      <td>128.0</td>\n",
       "      <td>432.0</td>\n",
       "      <td>7-5 7-5</td>\n",
       "      <td>3</td>\n",
       "      <td>R32</td>\n",
       "      <td>98.0</td>\n",
       "      <td>14.0</td>\n",
       "      <td>3.0</td>\n",
       "      <td>56.0</td>\n",
       "      <td>37.0</td>\n",
       "      <td>30.0</td>\n",
       "      <td>10.0</td>\n",
       "      <td>12.0</td>\n",
       "      <td>0.0</td>\n",
       "      <td>3.0</td>\n",
       "      <td>0.0</td>\n",
       "      <td>0.0</td>\n",
       "      <td>0.0</td>\n",
       "      <td>0.0</td>\n",
       "      <td>0.0</td>\n",
       "      <td>0.0</td>\n",
       "      <td>0.0</td>\n",
       "      <td>0.0</td>\n",
       "      <td>0.0</td>\n",
       "      <td>12.0</td>\n",
       "      <td>0</td>\n",
       "      <td>1.0</td>\n",
       "      <td>1.0</td>\n",
       "      <td>0</td>\n",
       "    </tr>\n",
       "    <tr>\n",
       "      <th>2451</th>\n",
       "      <td>2011-747</td>\n",
       "      <td>Beijing</td>\n",
       "      <td>Hard</td>\n",
       "      <td>32</td>\n",
       "      <td>A</td>\n",
       "      <td>20111003</td>\n",
       "      <td>14</td>\n",
       "      <td>103656</td>\n",
       "      <td>Albert Montanes</td>\n",
       "      <td>R</td>\n",
       "      <td>175.0</td>\n",
       "      <td>ESP</td>\n",
       "      <td>30.850103</td>\n",
       "      <td>55.0</td>\n",
       "      <td>825.0</td>\n",
       "      <td>104154</td>\n",
       "      <td>Paul Capdeville</td>\n",
       "      <td>R</td>\n",
       "      <td>190.0</td>\n",
       "      <td>CHI</td>\n",
       "      <td>28.503765</td>\n",
       "      <td>103.0</td>\n",
       "      <td>563.0</td>\n",
       "      <td>6-3 6-3</td>\n",
       "      <td>3</td>\n",
       "      <td>R32</td>\n",
       "      <td>53.0</td>\n",
       "      <td>12.0</td>\n",
       "      <td>1.0</td>\n",
       "      <td>47.0</td>\n",
       "      <td>25.0</td>\n",
       "      <td>24.0</td>\n",
       "      <td>13.0</td>\n",
       "      <td>9.0</td>\n",
       "      <td>1.0</td>\n",
       "      <td>1.0</td>\n",
       "      <td>0.0</td>\n",
       "      <td>0.0</td>\n",
       "      <td>0.0</td>\n",
       "      <td>0.0</td>\n",
       "      <td>0.0</td>\n",
       "      <td>0.0</td>\n",
       "      <td>0.0</td>\n",
       "      <td>0.0</td>\n",
       "      <td>0.0</td>\n",
       "      <td>9.0</td>\n",
       "      <td>0</td>\n",
       "      <td>1.0</td>\n",
       "      <td>1.0</td>\n",
       "      <td>0</td>\n",
       "    </tr>\n",
       "    <tr>\n",
       "      <th>414</th>\n",
       "      <td>2006-317</td>\n",
       "      <td>Amersfoort</td>\n",
       "      <td>Clay</td>\n",
       "      <td>32</td>\n",
       "      <td>A</td>\n",
       "      <td>20060717</td>\n",
       "      <td>8</td>\n",
       "      <td>105217</td>\n",
       "      <td>Thiemo De Bakker</td>\n",
       "      <td>R</td>\n",
       "      <td>193.0</td>\n",
       "      <td>NED</td>\n",
       "      <td>17.823409</td>\n",
       "      <td>1055.0</td>\n",
       "      <td>7.0</td>\n",
       "      <td>103898</td>\n",
       "      <td>Julien Benneteau</td>\n",
       "      <td>R</td>\n",
       "      <td>185.0</td>\n",
       "      <td>FRA</td>\n",
       "      <td>24.572211</td>\n",
       "      <td>53.0</td>\n",
       "      <td>711.0</td>\n",
       "      <td>6-3 6-3</td>\n",
       "      <td>3</td>\n",
       "      <td>R32</td>\n",
       "      <td>84.0</td>\n",
       "      <td>3.0</td>\n",
       "      <td>4.0</td>\n",
       "      <td>67.0</td>\n",
       "      <td>28.0</td>\n",
       "      <td>22.0</td>\n",
       "      <td>21.0</td>\n",
       "      <td>0.0</td>\n",
       "      <td>5.0</td>\n",
       "      <td>6.0</td>\n",
       "      <td>2.0</td>\n",
       "      <td>2.0</td>\n",
       "      <td>53.0</td>\n",
       "      <td>36.0</td>\n",
       "      <td>19.0</td>\n",
       "      <td>9.0</td>\n",
       "      <td>0.0</td>\n",
       "      <td>4.0</td>\n",
       "      <td>8.0</td>\n",
       "      <td>0.0</td>\n",
       "      <td>0</td>\n",
       "      <td>1.0</td>\n",
       "      <td>1.0</td>\n",
       "      <td>0</td>\n",
       "    </tr>\n",
       "  </tbody>\n",
       "</table>\n",
       "</div>"
      ],
      "text/plain": [
       "     tourney_id     tourney_name surface  draw_size tourney_level  \\\n",
       "1668   2008-580  Australian Open    Hard        128             G   \n",
       "2446   2011-747          Beijing    Hard         32             A   \n",
       "2451   2011-747          Beijing    Hard         32             A   \n",
       "414    2006-317       Amersfoort    Clay         32             A   \n",
       "\n",
       "      tourney_date  match_num  winner_id       winner_name winner_hand  \\\n",
       "1668      20080114         49     104053      Andy Roddick           R   \n",
       "2446      20111003          9     103344     Ivan Ljubicic           R   \n",
       "2451      20111003         14     103656   Albert Montanes           R   \n",
       "414       20060717          8     105217  Thiemo De Bakker           R   \n",
       "\n",
       "      winner_ht winner_ioc  winner_age  winner_rank  winner_rank_points  \\\n",
       "1668      188.0        USA   25.374401          6.0              2530.0   \n",
       "2446      193.0        CRO   32.542094         26.0              1375.0   \n",
       "2451      175.0        ESP   30.850103         55.0               825.0   \n",
       "414       193.0        NED   17.823409       1055.0                 7.0   \n",
       "\n",
       "      loser_id           loser_name loser_hand  loser_ht loser_ioc  loser_age  \\\n",
       "1668    104160         Lukas Dlouhy          R     185.0       CZE  24.766598   \n",
       "2446    104559  Teymuraz Gabashvili          R     188.0       RUS  26.362765   \n",
       "2451    104154      Paul Capdeville          R     190.0       CHI  28.503765   \n",
       "414     103898     Julien Benneteau          R     185.0       FRA  24.572211   \n",
       "\n",
       "      loser_rank  loser_rank_points        score best_of round  minutes  \\\n",
       "1668       154.0              275.0  6-3 6-4 7-5       5  R128     98.0   \n",
       "2446       128.0              432.0      7-5 7-5       3   R32     98.0   \n",
       "2451       103.0              563.0      6-3 6-3       3   R32     53.0   \n",
       "414         53.0              711.0      6-3 6-3       3   R32     84.0   \n",
       "\n",
       "      w_ace  w_df  w_svpt  w_1stIn  w_1stWon  w_2ndWon  w_SvGms  w_bpSaved  \\\n",
       "1668   13.0   2.0    89.0     58.0      44.0      18.0     16.0        5.0   \n",
       "2446   14.0   3.0    56.0     37.0      30.0      10.0     12.0        0.0   \n",
       "2451   12.0   1.0    47.0     25.0      24.0      13.0      9.0        1.0   \n",
       "414     3.0   4.0    67.0     28.0      22.0      21.0      0.0        5.0   \n",
       "\n",
       "      w_bpFaced  l_ace  l_df  l_svpt  l_1stIn  l_1stWon  l_2ndWon  l_SvGms  \\\n",
       "1668        7.0    7.0  12.0    88.0     49.0      33.0      16.0      0.0   \n",
       "2446        3.0    0.0   0.0     0.0      0.0       0.0       0.0      0.0   \n",
       "2451        1.0    0.0   0.0     0.0      0.0       0.0       0.0      0.0   \n",
       "414         6.0    2.0   2.0    53.0     36.0      19.0       9.0      0.0   \n",
       "\n",
       "      l_bpSaved  l_bpFaced  TotalGames  Retired  w_hand  l_hand  Total_Sets  \n",
       "1668        6.0       11.0        16.0        0     1.0     1.0           1  \n",
       "2446        0.0        0.0        12.0        0     1.0     1.0           0  \n",
       "2451        0.0        0.0         9.0        0     1.0     1.0           0  \n",
       "414         4.0        8.0         0.0        0     1.0     1.0           0  "
      ]
     },
     "execution_count": 290,
     "metadata": {},
     "output_type": "execute_result"
    }
   ],
   "source": [
    "framesDCWO2[framesDCWO2['l_SvGms'] == 0]"
   ]
  },
  {
   "cell_type": "code",
   "execution_count": 291,
   "metadata": {},
   "outputs": [
    {
     "data": {
      "text/plain": [
       "(42550, 50)"
      ]
     },
     "execution_count": 291,
     "metadata": {},
     "output_type": "execute_result"
    }
   ],
   "source": [
    "framesDCWO2 = framesDCWO2.drop(['414','2005','1668','2446','2451'])\n",
    "framesDCWO2.shape"
   ]
  },
  {
   "cell_type": "markdown",
   "metadata": {},
   "source": [
    "Ahora que tenemos limpio el data set, voy a hacer un ejemplo de visualización, los 50 jugadores mas altos:"
   ]
  },
  {
   "cell_type": "code",
   "execution_count": 292,
   "metadata": {
    "collapsed": true
   },
   "outputs": [],
   "source": [
    "tops = framesDCWO2.groupby('winner_name').mean()['winner_ht'].sort_values(ascending=False)\n",
    "tops = tops.head(50)"
   ]
  },
  {
   "cell_type": "code",
   "execution_count": 293,
   "metadata": {},
   "outputs": [
    {
     "data": {
      "image/png": "[encoded data removed]",
      "text/plain": [
       "<matplotlib.figure.Figure at 0x120726110>"
      ]
     },
     "metadata": {},
     "output_type": "display_data"
    }
   ],
   "source": [
    "plt.figure(figsize=(30,10))\n",
    "a=sns.barplot(x=tops.index, y=tops.values)\n",
    "for item in a.get_xticklabels():\n",
    "    item.set_rotation(90)"
   ]
  },
  {
   "cell_type": "markdown",
   "metadata": {},
   "source": [
    "**vi. Average minutes per game:**"
   ]
  },
  {
   "cell_type": "markdown",
   "metadata": {},
   "source": [
    "     Para poder hacer cualquier iteración lo primero que tenemos que hacer es ordenar cronologicamente, ya que la iteración debe buscar la información en partidos pasados, obviando los partidos ocurridos posteriormente.\n",
    "     \n",
    "     Basicamente la iteración buscará en cada partido para ambos jugadores los 'minutes' de todos aquellos partidos (aparezca como winner o loser) pasados. Para hacer la media simplemente sumará todos los minutes y lo dividirá por el total de partidos."
   ]
  },
  {
   "cell_type": "code",
   "execution_count": 294,
   "metadata": {
    "collapsed": true
   },
   "outputs": [],
   "source": [
    "framesDCWO2 = framesDCWO2.sort_values(by=['tourney_date', 'match_num'])"
   ]
  },
  {
   "cell_type": "markdown",
   "metadata": {},
   "source": [
    "    Ahora ya puedo iterar. En este punto existe la dificultadad de que la duracion del partido va a depender del desarrollo del mismo y además del tipo de torneo que se este jugando, existiendo torneros al mejor de 5 sets y torneos al mejor de 3 sets. Evidentemente la diferencia de tiempo entre uno y otro va a ser importante.\n",
    "    \n",
    "    Para solucionar este problema, vamos a convertir el tiempo a tiempo por juego (game), dividiento por el total de juegos obtenido anteriormente."
   ]
  },
  {
   "cell_type": "markdown",
   "metadata": {},
   "source": [
    "    Vamos a ordenar el data set:"
   ]
  },
  {
   "cell_type": "code",
   "execution_count": 295,
   "metadata": {
    "collapsed": true,
    "scrolled": true
   },
   "outputs": [],
   "source": [
    "framesDCWO2 = framesDCWO2.set_index('tourney_date','match_num').sort_index()"
   ]
  },
  {
   "cell_type": "markdown",
   "metadata": {},
   "source": [
    "    Ahora ya podemos empezar a crear nuestras variables, vamos a acumular los minutes, los juegos y hacer la media. Por último me desaré de las columnas que no necesito:"
   ]
  },
  {
   "cell_type": "code",
   "execution_count": 296,
   "metadata": {
    "collapsed": true
   },
   "outputs": [],
   "source": [
    "framesDCWO2['w_minutes_cum']=framesDCWO2.groupby('winner_name')['minutes'].transform(pd.Series.cumsum)\n",
    "framesDCWO2['w_TotalGames_cum']=framesDCWO2.groupby('winner_name')['TotalGames'].transform(pd.Series.cumsum)\n",
    "framesDCWO2['w_minutes_average'] = framesDCWO2['w_minutes_cum'] / framesDCWO2['w_TotalGames_cum']\n",
    "columns = ['w_minutes_cum']\n",
    "framesDCWO2.drop(columns, inplace=True, axis=1) "
   ]
  },
  {
   "cell_type": "markdown",
   "metadata": {},
   "source": [
    "     Hago lo mismo con el loser:"
   ]
  },
  {
   "cell_type": "code",
   "execution_count": 297,
   "metadata": {
    "collapsed": true
   },
   "outputs": [],
   "source": [
    "framesDCWO2['l_minutes_cum']=framesDCWO2.groupby('loser_name')['minutes'].transform(pd.Series.cumsum)\n",
    "framesDCWO2['l_TotalGames_cum']=framesDCWO2.groupby('loser_name')['TotalGames'].transform(pd.Series.cumsum)\n",
    "framesDCWO2['l_minutes_average'] = framesDCWO2['l_minutes_cum'] / framesDCWO2['l_TotalGames_cum']\n",
    "columns = ['l_minutes_cum']\n",
    "framesDCWO2.drop(columns, inplace=True, axis=1) "
   ]
  },
  {
   "cell_type": "markdown",
   "metadata": {
    "collapsed": true
   },
   "source": [
    "**vii. Average aces per game**"
   ]
  },
  {
   "cell_type": "code",
   "execution_count": 298,
   "metadata": {
    "collapsed": true,
    "scrolled": true
   },
   "outputs": [],
   "source": [
    "framesDCWO2['w_aces_cum']=framesDCWO2.groupby('winner_name')['w_ace'].transform(pd.Series.cumsum)\n",
    "framesDCWO2['w_aces_average'] = framesDCWO2['w_aces_cum'] / framesDCWO2['w_TotalGames_cum']\n",
    "framesDCWO2['l_aces_cum']=framesDCWO2.groupby('loser_name')['l_ace'].transform(pd.Series.cumsum)\n",
    "framesDCWO2['l_aces_average'] = framesDCWO2['l_aces_cum'] / framesDCWO2['l_TotalGames_cum']\n",
    "columns = ['w_aces_cum', 'l_aces_cum']\n",
    "framesDCWO2.drop(columns, inplace=True, axis=1) "
   ]
  },
  {
   "cell_type": "markdown",
   "metadata": {
    "collapsed": true
   },
   "source": [
    "**viii. Average double foult per match**"
   ]
  },
  {
   "cell_type": "code",
   "execution_count": 299,
   "metadata": {
    "collapsed": true,
    "scrolled": true
   },
   "outputs": [],
   "source": [
    "framesDCWO2['w_df_cum']=framesDCWO2.groupby('winner_name')['w_df'].transform(pd.Series.cumsum)\n",
    "framesDCWO2['w_df_average'] = framesDCWO2['w_df_cum'] / framesDCWO2['w_TotalGames_cum']\n",
    "framesDCWO2['l_df_cum']=framesDCWO2.groupby('loser_name')['l_df'].transform(pd.Series.cumsum)\n",
    "framesDCWO2['l_df_average'] = framesDCWO2['l_df_cum'] / framesDCWO2['l_TotalGames_cum']\n",
    "columns = ['w_df_cum', 'l_df_cum']\n",
    "framesDCWO2.drop(columns, inplace=True, axis=1) "
   ]
  },
  {
   "cell_type": "markdown",
   "metadata": {},
   "source": [
    "**iv. % First In (w_1stIn/game)**"
   ]
  },
  {
   "cell_type": "markdown",
   "metadata": {},
   "source": [
    "     Como voy a hacer un ratio, no me interesa saber el numero de partidos. Voy a ir sumando todos los puntos servidos antes de ese partido y todos los 1st in, haciendo el ratio. Si ese ratio se obtuvo en 10 partidos o 1000 no es un factor que vayamos a utilizar.\n",
    "     \n",
    "     Tampoco voy a utilizar la ponderacio de partidos a 3 o 5 sets, ya que al ser un ratio el resultado se va a mover siempre en la misma escala, entre 0-1, independientemente de la duración del mismo. Es evidente que si quisieramos ser puristas tendríamos que diferenciarlos porque el rendimiento de un tenista podría variar en los últimos sets por el cansancio o por una estrategia conservadora en los primeos sets."
   ]
  },
  {
   "cell_type": "code",
   "execution_count": 300,
   "metadata": {
    "collapsed": true,
    "scrolled": true
   },
   "outputs": [],
   "source": [
    "framesDCWO2['w_1stIn_cum']=framesDCWO2.groupby('winner_name')['w_1stIn'].transform(pd.Series.cumsum)\n",
    "framesDCWO2['w_SvGames_cum']=framesDCWO2.groupby('winner_name')['w_SvGms'].transform(pd.Series.cumsum)\n",
    "framesDCWO2['w_1stIn_average'] = framesDCWO2['w_1stIn_cum'] / framesDCWO2['w_SvGames_cum']\n",
    "framesDCWO2['l_1stIn_cum']=framesDCWO2.groupby('loser_name')['l_1stIn'].transform(pd.Series.cumsum)\n",
    "framesDCWO2['l_SvGames_cum']=framesDCWO2.groupby('loser_name')['l_SvGms'].transform(pd.Series.cumsum)\n",
    "framesDCWO2['l_1stIn_average'] = framesDCWO2['l_1stIn_cum'] / framesDCWO2['l_SvGames_cum']\n",
    "columns = ['w_1stIn_cum', 'l_1stIn_cum']\n",
    "framesDCWO2.drop(columns, inplace=True, axis=1) "
   ]
  },
  {
   "cell_type": "markdown",
   "metadata": {},
   "source": [
    "     De esta forma hacemos un doble estadistico para cadad jugador, uno cuando pierde y otro cuando gana. Conceptualmente hacerlo asi es correcto, porque lo que intentamos es poner etiquetas (ganador/perdedor) sobre los partidos. El mismo jugador tiene unas estadisticas diferentes cuando gana y cuando pierde."
   ]
  },
  {
   "cell_type": "code",
   "execution_count": 301,
   "metadata": {},
   "outputs": [
    {
     "name": "stdout",
     "output_type": "stream",
     "text": [
      "(4.23555215253495, 4.510577990387127)\n"
     ]
    }
   ],
   "source": [
    "x = framesDCWO2[framesDCWO2['winner_name'] == 'Rafael Nadal']['w_1stIn_average'].mean()\n",
    "y = framesDCWO2[framesDCWO2['loser_name'] == 'Rafael Nadal']['l_1stIn_average'].mean()\n",
    "print (x,y)"
   ]
  },
  {
   "cell_type": "markdown",
   "metadata": {},
   "source": [
    "**x. % First Won (w_1stWon/game)**"
   ]
  },
  {
   "cell_type": "code",
   "execution_count": 302,
   "metadata": {
    "collapsed": true,
    "scrolled": true
   },
   "outputs": [],
   "source": [
    "framesDCWO2['w_1stWon_cum']=framesDCWO2.groupby('winner_name')['w_1stWon'].transform(pd.Series.cumsum)\n",
    "framesDCWO2['w_1stWon_average'] = framesDCWO2['w_1stWon_cum'] / framesDCWO2['w_SvGames_cum']\n",
    "framesDCWO2['l_1stWon_cum']=framesDCWO2.groupby('loser_name')['l_1stWon'].transform(pd.Series.cumsum)\n",
    "framesDCWO2['l_1stWon_average'] = framesDCWO2['l_1stWon_cum'] / framesDCWO2['l_SvGames_cum']\n",
    "columns = ['w_1stWon_cum', 'l_1stWon_cum']\n",
    "framesDCWO2.drop(columns, inplace=True, axis=1) "
   ]
  },
  {
   "cell_type": "markdown",
   "metadata": {
    "collapsed": true
   },
   "source": [
    "**xi. % Second Won (w_2ndWon/game)**"
   ]
  },
  {
   "cell_type": "code",
   "execution_count": 303,
   "metadata": {
    "collapsed": true
   },
   "outputs": [],
   "source": [
    "framesDCWO2['w_2ndWon_cum']=framesDCWO2.groupby('winner_name')['w_2ndWon'].transform(pd.Series.cumsum)\n",
    "framesDCWO2['w_2ndWon_average'] = framesDCWO2['w_2ndWon_cum'] / framesDCWO2['w_SvGames_cum']\n",
    "framesDCWO2['l_2ndWon_cum']=framesDCWO2.groupby('loser_name')['l_2ndWon'].transform(pd.Series.cumsum)\n",
    "framesDCWO2['l_2ndWon_average'] = framesDCWO2['l_2ndWon_cum'] / framesDCWO2['l_SvGames_cum']\n",
    "columns = ['w_2ndWon_cum', 'l_2ndWon_cum']\n",
    "framesDCWO2.drop(columns, inplace=True, axis=1) "
   ]
  },
  {
   "cell_type": "markdown",
   "metadata": {},
   "source": [
    "**xii. % Break Point Saved (w_bpSaved/w_bpFaced)**"
   ]
  },
  {
   "cell_type": "code",
   "execution_count": 304,
   "metadata": {
    "collapsed": true
   },
   "outputs": [],
   "source": [
    "framesDCWO2['w_bpSaved_cum']=framesDCWO2.groupby('winner_name')['w_bpSaved'].transform(pd.Series.cumsum)\n",
    "framesDCWO2['w_bpFaced_cum']=framesDCWO2.groupby('winner_name')['w_bpFaced'].transform(pd.Series.cumsum)\n",
    "framesDCWO2['w_bpSaved_average'] = framesDCWO2['w_bpSaved_cum'] / framesDCWO2['w_bpFaced_cum']\n",
    "framesDCWO2['l_bpSaved_cum']=framesDCWO2.groupby('loser_name')['l_bpSaved'].transform(pd.Series.cumsum)\n",
    "framesDCWO2['l_bpFaced_cum']=framesDCWO2.groupby('loser_name')['l_bpFaced'].transform(pd.Series.cumsum)\n",
    "framesDCWO2['l_bpSaved_average'] = framesDCWO2['l_bpSaved_cum'] / framesDCWO2['l_bpFaced_cum']\n",
    "columns = ['w_bpSaved_cum','w_bpFaced_cum', 'l_bpSaved_cum', 'l_bpFaced_cum']\n",
    "framesDCWO2.drop(columns, inplace=True, axis=1) "
   ]
  },
  {
   "cell_type": "markdown",
   "metadata": {},
   "source": [
    "## 3.2. Data Transformation:"
   ]
  },
  {
   "cell_type": "markdown",
   "metadata": {},
   "source": [
    "#### 1. Creating new Features: Dif"
   ]
  },
  {
   "cell_type": "markdown",
   "metadata": {},
   "source": [
    "     Tengo listos los estadísticos de cada partido segmentados entre winner y loser. Como comentamos cuando hicimos el estudio inicial del data set, lo que vamos a introducir son las diferencias entre winner/loser para cada feature.\n",
    "     \n",
    "     Para poder generar resultados 1 (win) y 0 (lose) tenemos que aplicar las formulas de la siguiente manera:\n",
    "        1 = w - l\n",
    "        0 = -w + l\n",
    "        \n",
    "     Voy a aplicar cada fórmula a un 50% del dataset. "
   ]
  },
  {
   "cell_type": "code",
   "execution_count": 305,
   "metadata": {
    "collapsed": true
   },
   "outputs": [],
   "source": [
    "framesDCWO2 = framesDCWO2.reset_index()"
   ]
  },
  {
   "cell_type": "markdown",
   "metadata": {},
   "source": [
    "**i. dif_Minutes**"
   ]
  },
  {
   "cell_type": "code",
   "execution_count": 306,
   "metadata": {
    "collapsed": true,
    "scrolled": true
   },
   "outputs": [],
   "source": [
    "framesDCWO2['dif_Minutes'] = framesDCWO2['w_minutes_average'] - framesDCWO2['l_minutes_average'] \n",
    "framesDCWO2.loc[1::2,'dif_Minutes'] = - framesDCWO2['w_minutes_average'] + framesDCWO2['l_minutes_average'] "
   ]
  },
  {
   "cell_type": "markdown",
   "metadata": {},
   "source": [
    "**ii. dif_Aces**"
   ]
  },
  {
   "cell_type": "code",
   "execution_count": 307,
   "metadata": {
    "collapsed": true
   },
   "outputs": [],
   "source": [
    "framesDCWO2['dif_Aces'] = framesDCWO2['w_aces_average'] - framesDCWO2['l_aces_average'] \n",
    "framesDCWO2.loc[1::2,'dif_Aces'] = - framesDCWO2['w_aces_average'] + framesDCWO2['l_aces_average'] "
   ]
  },
  {
   "cell_type": "markdown",
   "metadata": {},
   "source": [
    "**iii. dif_Df**"
   ]
  },
  {
   "cell_type": "code",
   "execution_count": 308,
   "metadata": {
    "collapsed": true
   },
   "outputs": [],
   "source": [
    "framesDCWO2['dif_Df'] = framesDCWO2['w_df_average'] - framesDCWO2['l_df_average'] \n",
    "framesDCWO2.loc[1::2,'dif_Df'] = - framesDCWO2['w_df_average'] + framesDCWO2['l_df_average'] "
   ]
  },
  {
   "cell_type": "markdown",
   "metadata": {},
   "source": [
    "**iv. dif_1stIn**"
   ]
  },
  {
   "cell_type": "code",
   "execution_count": 309,
   "metadata": {
    "collapsed": true
   },
   "outputs": [],
   "source": [
    "framesDCWO2['dif_1stIn'] = framesDCWO2['w_1stIn_average'] - framesDCWO2['l_1stIn_average'] \n",
    "framesDCWO2.loc[1::2,'dif_1stIn'] = - framesDCWO2['w_1stIn_average'] + framesDCWO2['l_1stIn_average'] "
   ]
  },
  {
   "cell_type": "markdown",
   "metadata": {},
   "source": [
    "**v. dif_1stWon**"
   ]
  },
  {
   "cell_type": "code",
   "execution_count": 310,
   "metadata": {
    "collapsed": true
   },
   "outputs": [],
   "source": [
    "framesDCWO2['dif_1stWon'] = framesDCWO2['w_1stWon_average'] - framesDCWO2['l_1stWon_average'] \n",
    "framesDCWO2.loc[1::2,'dif_1stWon'] = - framesDCWO2['w_1stWon_average'] + framesDCWO2['l_1stWon_average'] "
   ]
  },
  {
   "cell_type": "markdown",
   "metadata": {},
   "source": [
    "**vi. dif_2ndWon**"
   ]
  },
  {
   "cell_type": "code",
   "execution_count": 311,
   "metadata": {
    "collapsed": true
   },
   "outputs": [],
   "source": [
    "framesDCWO2['dif_2ndWon'] = framesDCWO2['w_2ndWon_average'] - framesDCWO2['l_2ndWon_average'] \n",
    "framesDCWO2.loc[1::2,'dif_2ndWon'] = - framesDCWO2['w_2ndWon_average'] + framesDCWO2['l_2ndWon_average'] "
   ]
  },
  {
   "cell_type": "markdown",
   "metadata": {},
   "source": [
    "**vii. dif_BpSv**"
   ]
  },
  {
   "cell_type": "code",
   "execution_count": 312,
   "metadata": {
    "collapsed": true
   },
   "outputs": [],
   "source": [
    "framesDCWO2['dif_BpSv'] = framesDCWO2['w_bpSaved_average'] - framesDCWO2['l_bpSaved_average'] \n",
    "framesDCWO2.loc[1::2,'dif_BpSv'] = - framesDCWO2['w_bpSaved_average'] + framesDCWO2['l_bpSaved_average'] "
   ]
  },
  {
   "cell_type": "markdown",
   "metadata": {},
   "source": [
    "Ahora vamos a volver a las primeras variables:"
   ]
  },
  {
   "cell_type": "markdown",
   "metadata": {},
   "source": [
    "**viii. dif_Age**"
   ]
  },
  {
   "cell_type": "code",
   "execution_count": 313,
   "metadata": {
    "collapsed": true
   },
   "outputs": [],
   "source": [
    "framesDCWO2['dif_Age'] = framesDCWO2['winner_age'] - framesDCWO2['loser_age'] \n",
    "framesDCWO2.loc[1::2,'dif_Age'] = - framesDCWO2['winner_age'] + framesDCWO2['loser_age'] "
   ]
  },
  {
   "cell_type": "markdown",
   "metadata": {},
   "source": [
    "**iv. dif_Height**"
   ]
  },
  {
   "cell_type": "code",
   "execution_count": 314,
   "metadata": {
    "collapsed": true
   },
   "outputs": [],
   "source": [
    "framesDCWO2['dif_Height'] = framesDCWO2['winner_ht'] - framesDCWO2['loser_ht'] \n",
    "framesDCWO2.loc[1::2,'dif_Height'] = - framesDCWO2['winner_ht'] + framesDCWO2['loser_ht'] "
   ]
  },
  {
   "cell_type": "markdown",
   "metadata": {},
   "source": [
    "**x. dif_Rank**"
   ]
  },
  {
   "cell_type": "code",
   "execution_count": 315,
   "metadata": {
    "collapsed": true
   },
   "outputs": [],
   "source": [
    "framesDCWO2['dif_Rank'] = framesDCWO2['winner_rank'] - framesDCWO2['loser_rank'] \n",
    "framesDCWO2.loc[1::2,'dif_Rank'] = - framesDCWO2['winner_rank'] + framesDCWO2['loser_rank'] "
   ]
  },
  {
   "cell_type": "markdown",
   "metadata": {},
   "source": [
    "**xi. dif_RankP**"
   ]
  },
  {
   "cell_type": "code",
   "execution_count": 316,
   "metadata": {
    "collapsed": true
   },
   "outputs": [],
   "source": [
    "framesDCWO2['dif_RankP'] = framesDCWO2['winner_rank_points'] - framesDCWO2['loser_rank_points'] \n",
    "framesDCWO2.loc[1::2,'dif_RankP'] = - framesDCWO2['winner_rank_points'] + framesDCWO2['loser_rank_points'] "
   ]
  },
  {
   "cell_type": "code",
   "execution_count": 335,
   "metadata": {
    "collapsed": true
   },
   "outputs": [],
   "source": [
    "framesDCWO2.to_csv('framesDCWO2', encoding='utf-8', index=False)"
   ]
  },
  {
   "cell_type": "markdown",
   "metadata": {},
   "source": [
    "## El otro tipo de estadisticos:\n",
    "a) Ultimos 5 partidos:"
   ]
  },
  {
   "cell_type": "code",
   "execution_count": 317,
   "metadata": {
    "collapsed": true
   },
   "outputs": [],
   "source": [
    "#df[\"sum4\"] = df.groupby(\"Type\")[\"Value\"].apply(lambda x: pd.rolling_sum(x,4))"
   ]
  },
  {
   "cell_type": "code",
   "execution_count": 318,
   "metadata": {
    "collapsed": true
   },
   "outputs": [],
   "source": [
    "### Probar doble group by para los últimos 5 partidos"
   ]
  },
  {
   "cell_type": "code",
   "execution_count": null,
   "metadata": {
    "collapsed": true
   },
   "outputs": [],
   "source": []
  },
  {
   "cell_type": "code",
   "execution_count": null,
   "metadata": {
    "collapsed": true
   },
   "outputs": [],
   "source": []
  },
  {
   "cell_type": "markdown",
   "metadata": {
    "collapsed": true
   },
   "source": [
    "## TARGET:"
   ]
  },
  {
   "cell_type": "markdown",
   "metadata": {},
   "source": [
    "     Vamos a crear el vector Y siguiendo la lógica aplicada con anterioridad. Las lineas impares contienen victorias (w-l), mientras que las líneas pares contiene derrotas (-w+l). Por tanto, codificaremos como 1 las lineas impares y 0 las lineas pares."
   ]
  },
  {
   "cell_type": "code",
   "execution_count": 319,
   "metadata": {
    "collapsed": true
   },
   "outputs": [],
   "source": [
    "framesDCWO2['Y'] = 1\n",
    "framesDCWO2.loc[1::2,'Y'] = 0"
   ]
  },
  {
   "cell_type": "markdown",
   "metadata": {},
   "source": [
    "    Generamos el dataframe definitivo incluyendo todas las features que vamos a utilizar:"
   ]
  },
  {
   "cell_type": "code",
   "execution_count": 320,
   "metadata": {
    "collapsed": true
   },
   "outputs": [],
   "source": [
    "TennisDF = framesDCWO2[['Y','dif_Rank','dif_RankP','dif_Height','dif_Age','w_hand','l_hand','dif_Minutes','dif_Aces',\n",
    "                        'dif_Df','dif_1stIn','dif_1stWon', 'dif_2ndWon','dif_BpSv']]             "
   ]
  },
  {
   "cell_type": "code",
   "execution_count": 321,
   "metadata": {},
   "outputs": [
    {
     "data": {
      "text/plain": [
       "(42550, 14)"
      ]
     },
     "execution_count": 321,
     "metadata": {},
     "output_type": "execute_result"
    }
   ],
   "source": [
    "TennisDF.shape"
   ]
  },
  {
   "cell_type": "code",
   "execution_count": 322,
   "metadata": {
    "collapsed": true
   },
   "outputs": [],
   "source": [
    "TennisDF = TennisDF.dropna()"
   ]
  },
  {
   "cell_type": "code",
   "execution_count": 323,
   "metadata": {},
   "outputs": [
    {
     "data": {
      "text/plain": [
       "(42509, 14)"
      ]
     },
     "execution_count": 323,
     "metadata": {},
     "output_type": "execute_result"
    }
   ],
   "source": [
    "TennisDF.shape"
   ]
  },
  {
   "cell_type": "code",
   "execution_count": 324,
   "metadata": {},
   "outputs": [
    {
     "data": {
      "text/plain": [
       "Y              0\n",
       "dif_Rank       0\n",
       "dif_RankP      0\n",
       "dif_Height     0\n",
       "dif_Age        0\n",
       "w_hand         0\n",
       "l_hand         0\n",
       "dif_Minutes    0\n",
       "dif_Aces       0\n",
       "dif_Df         0\n",
       "dif_1stIn      0\n",
       "dif_1stWon     0\n",
       "dif_2ndWon     0\n",
       "dif_BpSv       0\n",
       "dtype: int64"
      ]
     },
     "execution_count": 324,
     "metadata": {},
     "output_type": "execute_result"
    }
   ],
   "source": [
    "TennisDF.isnull().sum()"
   ]
  },
  {
   "cell_type": "markdown",
   "metadata": {
    "collapsed": true,
    "scrolled": true
   },
   "source": [
    "**Antes de seguir vamos a hacer una copia de este DataSet. Esta será nuestra base para todos los trabajos posteriores:**"
   ]
  },
  {
   "cell_type": "code",
   "execution_count": 325,
   "metadata": {
    "collapsed": true
   },
   "outputs": [],
   "source": [
    "TennisDF.to_csv('TennisDF', encoding='utf-8', index=False)"
   ]
  },
  {
   "cell_type": "markdown",
   "metadata": {},
   "source": [
    "## 3.3. Data Analisis:"
   ]
  },
  {
   "cell_type": "markdown",
   "metadata": {},
   "source": [
    "### 3.3.1. Feature distribution:"
   ]
  },
  {
   "cell_type": "markdown",
   "metadata": {},
   "source": [
    "    Vamos a analizar visualmente la distribución de de nuestras variables:"
   ]
  },
  {
   "cell_type": "code",
   "execution_count": 326,
   "metadata": {
    "scrolled": true
   },
   "outputs": [
    {
     "data": {
      "image/png": "[encoded data removed]",
      "text/plain": [
       "<matplotlib.figure.Figure at 0x118e14190>"
      ]
     },
     "metadata": {},
     "output_type": "display_data"
    }
   ],
   "source": [
    "plt.figure(figsize=(20,20))\n",
    "sns.set(style=\"darkgrid\")\n",
    "for index,col in enumerate(TennisDF.columns):\n",
    "    plt.subplot(6,5,index+1)\n",
    "    sns.distplot(TennisDF[col])"
   ]
  },
  {
   "cell_type": "markdown",
   "metadata": {
    "collapsed": true
   },
   "source": [
    "     Antes de introducir las variables en el modelo vamos a estandarizarlas:"
   ]
  },
  {
   "cell_type": "markdown",
   "metadata": {},
   "source": [
    "   **METODO 1:**"
   ]
  },
  {
   "cell_type": "markdown",
   "metadata": {},
   "source": [
    "     Lo primero que voy a hacer es separar los data sets, en dos, una para los predictores y otro para el target."
   ]
  },
  {
   "cell_type": "code",
   "execution_count": 327,
   "metadata": {
    "collapsed": true
   },
   "outputs": [],
   "source": [
    "TennisDF_X = TennisDF[['dif_Rank','dif_RankP','dif_Height','dif_Age','w_hand','l_hand','dif_Minutes','dif_Aces',\n",
    "                        'dif_Df','dif_1stIn','dif_1stWon', 'dif_2ndWon','dif_BpSv']]\n",
    "TennisDF_Y = TennisDF['Y']"
   ]
  },
  {
   "cell_type": "markdown",
   "metadata": {},
   "source": [
    "     Ahora normalizo las variables predictoras:"
   ]
  },
  {
   "cell_type": "code",
   "execution_count": 328,
   "metadata": {
    "collapsed": true
   },
   "outputs": [],
   "source": [
    "TennisDFnorm_X = TennisDF_X.apply(lambda x: (x - np.mean(x)) / (np.std(x)))"
   ]
  },
  {
   "cell_type": "code",
   "execution_count": 329,
   "metadata": {},
   "outputs": [
    {
     "data": {
      "text/html": [
       "<div>\n",
       "<style>\n",
       "    .dataframe thead tr:only-child th {\n",
       "        text-align: right;\n",
       "    }\n",
       "\n",
       "    .dataframe thead th {\n",
       "        text-align: left;\n",
       "    }\n",
       "\n",
       "    .dataframe tbody tr th {\n",
       "        vertical-align: top;\n",
       "    }\n",
       "</style>\n",
       "<table border=\"1\" class=\"dataframe\">\n",
       "  <thead>\n",
       "    <tr style=\"text-align: right;\">\n",
       "      <th></th>\n",
       "      <th>dif_Rank</th>\n",
       "      <th>dif_RankP</th>\n",
       "      <th>dif_Height</th>\n",
       "      <th>dif_Age</th>\n",
       "      <th>w_hand</th>\n",
       "      <th>l_hand</th>\n",
       "      <th>dif_Minutes</th>\n",
       "      <th>dif_Aces</th>\n",
       "      <th>dif_Df</th>\n",
       "      <th>dif_1stIn</th>\n",
       "      <th>dif_1stWon</th>\n",
       "      <th>dif_2ndWon</th>\n",
       "      <th>dif_BpSv</th>\n",
       "    </tr>\n",
       "  </thead>\n",
       "  <tbody>\n",
       "    <tr>\n",
       "      <th>0</th>\n",
       "      <td>-0.429112</td>\n",
       "      <td>0.480356</td>\n",
       "      <td>0.845264</td>\n",
       "      <td>-1.907903</td>\n",
       "      <td>0.368448</td>\n",
       "      <td>-2.576821</td>\n",
       "      <td>-0.004915</td>\n",
       "      <td>1.895517</td>\n",
       "      <td>-1.833948</td>\n",
       "      <td>-0.789742</td>\n",
       "      <td>0.001725</td>\n",
       "      <td>-0.230945</td>\n",
       "      <td>0.181169</td>\n",
       "    </tr>\n",
       "    <tr>\n",
       "      <th>1</th>\n",
       "      <td>-0.278954</td>\n",
       "      <td>0.634250</td>\n",
       "      <td>0.738884</td>\n",
       "      <td>-1.603764</td>\n",
       "      <td>-2.714087</td>\n",
       "      <td>0.388075</td>\n",
       "      <td>-0.004915</td>\n",
       "      <td>1.009726</td>\n",
       "      <td>3.755639</td>\n",
       "      <td>-0.275683</td>\n",
       "      <td>0.146904</td>\n",
       "      <td>1.047744</td>\n",
       "      <td>-0.319451</td>\n",
       "    </tr>\n",
       "    <tr>\n",
       "      <th>2</th>\n",
       "      <td>1.356094</td>\n",
       "      <td>-0.266931</td>\n",
       "      <td>0.738884</td>\n",
       "      <td>0.043516</td>\n",
       "      <td>0.368448</td>\n",
       "      <td>-2.576821</td>\n",
       "      <td>-0.004915</td>\n",
       "      <td>-0.000907</td>\n",
       "      <td>-4.543214</td>\n",
       "      <td>3.741265</td>\n",
       "      <td>2.965791</td>\n",
       "      <td>-1.636733</td>\n",
       "      <td>2.122969</td>\n",
       "    </tr>\n",
       "    <tr>\n",
       "      <th>3</th>\n",
       "      <td>0.054729</td>\n",
       "      <td>-0.055915</td>\n",
       "      <td>-0.537676</td>\n",
       "      <td>0.569459</td>\n",
       "      <td>0.368448</td>\n",
       "      <td>0.388075</td>\n",
       "      <td>-0.004915</td>\n",
       "      <td>-0.587074</td>\n",
       "      <td>-3.116080</td>\n",
       "      <td>-1.792722</td>\n",
       "      <td>-2.792965</td>\n",
       "      <td>1.571545</td>\n",
       "      <td>-1.517906</td>\n",
       "    </tr>\n",
       "    <tr>\n",
       "      <th>4</th>\n",
       "      <td>-0.087086</td>\n",
       "      <td>0.036610</td>\n",
       "      <td>0.206984</td>\n",
       "      <td>-1.044215</td>\n",
       "      <td>0.368448</td>\n",
       "      <td>0.388075</td>\n",
       "      <td>-0.004915</td>\n",
       "      <td>-0.000907</td>\n",
       "      <td>-5.840609</td>\n",
       "      <td>0.562962</td>\n",
       "      <td>1.589617</td>\n",
       "      <td>2.455458</td>\n",
       "      <td>2.316045</td>\n",
       "    </tr>\n",
       "  </tbody>\n",
       "</table>\n",
       "</div>"
      ],
      "text/plain": [
       "   dif_Rank  dif_RankP  dif_Height   dif_Age    w_hand    l_hand  dif_Minutes  \\\n",
       "0 -0.429112   0.480356    0.845264 -1.907903  0.368448 -2.576821    -0.004915   \n",
       "1 -0.278954   0.634250    0.738884 -1.603764 -2.714087  0.388075    -0.004915   \n",
       "2  1.356094  -0.266931    0.738884  0.043516  0.368448 -2.576821    -0.004915   \n",
       "3  0.054729  -0.055915   -0.537676  0.569459  0.368448  0.388075    -0.004915   \n",
       "4 -0.087086   0.036610    0.206984 -1.044215  0.368448  0.388075    -0.004915   \n",
       "\n",
       "   dif_Aces    dif_Df  dif_1stIn  dif_1stWon  dif_2ndWon  dif_BpSv  \n",
       "0  1.895517 -1.833948  -0.789742    0.001725   -0.230945  0.181169  \n",
       "1  1.009726  3.755639  -0.275683    0.146904    1.047744 -0.319451  \n",
       "2 -0.000907 -4.543214   3.741265    2.965791   -1.636733  2.122969  \n",
       "3 -0.587074 -3.116080  -1.792722   -2.792965    1.571545 -1.517906  \n",
       "4 -0.000907 -5.840609   0.562962    1.589617    2.455458  2.316045  "
      ]
     },
     "execution_count": 329,
     "metadata": {},
     "output_type": "execute_result"
    }
   ],
   "source": [
    "TennisDFnorm_X.head()"
   ]
  },
  {
   "cell_type": "markdown",
   "metadata": {},
   "source": [
    "     Vuelvo a visualizar las variables predictoras para ver si están contenidas entre su media y 3 veces su desviación estandar:"
   ]
  },
  {
   "cell_type": "code",
   "execution_count": 330,
   "metadata": {
    "scrolled": true
   },
   "outputs": [
    {
     "data": {
      "image/png": "[encoded data removed]",
      "text/plain": [
       "<matplotlib.figure.Figure at 0x11ee169d0>"
      ]
     },
     "metadata": {},
     "output_type": "display_data"
    }
   ],
   "source": [
    "plt.figure(figsize=(20,20))\n",
    "sns.set(style=\"darkgrid\")\n",
    "for index,col in enumerate(TennisDFnorm_X.columns):\n",
    "    plt.subplot(6,5,index+1)\n",
    "    sns.distplot(TennisDFnorm_X[col])"
   ]
  },
  {
   "cell_type": "markdown",
   "metadata": {},
   "source": [
    "    Parece que la mayor parte de las variables tienen una distribución normal, con una dispersión contenida."
   ]
  },
  {
   "cell_type": "code",
   "execution_count": 331,
   "metadata": {},
   "outputs": [
    {
     "data": {
      "text/plain": [
       "(1.000011762422584, 0.0032719733522802398)"
      ]
     },
     "execution_count": 331,
     "metadata": {},
     "output_type": "execute_result"
    }
   ],
   "source": [
    "TennisDFnorm_X['dif_Aces'].std(), TennisDFnorm_X['dif_Aces'].median()"
   ]
  },
  {
   "cell_type": "code",
   "execution_count": 332,
   "metadata": {},
   "outputs": [
    {
     "data": {
      "text/plain": [
       "(1.0000117624225726, 0.0015081396382973576)"
      ]
     },
     "execution_count": 332,
     "metadata": {},
     "output_type": "execute_result"
    }
   ],
   "source": [
    "TennisDFnorm_X['dif_Age'].std(), TennisDFnorm_X['dif_Age'].median()"
   ]
  },
  {
   "cell_type": "markdown",
   "metadata": {},
   "source": [
    "     Si analizamos por ejemplo dif_Aces o Dif_Age podemos comprobar que la mayor parte de los valores se encuentran contenidos en el intervalo que comprende la mediana y 3 veces su desviación."
   ]
  },
  {
   "cell_type": "markdown",
   "metadata": {},
   "source": [
    "     A continuación vamos a hacer una copia del archivo resultante de la normalización, para poder utilizarlo en otros notebooks."
   ]
  },
  {
   "cell_type": "code",
   "execution_count": 333,
   "metadata": {
    "collapsed": true
   },
   "outputs": [],
   "source": [
    "TennisDFnorm_X.to_csv('TennisDFnorm_X', encoding='utf-8', index=False)"
   ]
  },
  {
   "cell_type": "code",
   "execution_count": 269,
   "metadata": {
    "collapsed": true
   },
   "outputs": [],
   "source": [
    "#TennisDF[['Y']].to_csv('TennisDF_y', encoding='utf-8', index=False)"
   ]
  }
 ],
 "metadata": {
  "anaconda-cloud": {},
  "kernelspec": {
   "display_name": "Python [default]",
   "language": "python",
   "name": "python2"
  },
  "language_info": {
   "codemirror_mode": {
    "name": "ipython",
    "version": 2
   },
   "file_extension": ".py",
   "mimetype": "text/x-python",
   "name": "python",
   "nbconvert_exporter": "python",
   "pygments_lexer": "ipython2",
   "version": "2.7.12"
  }
 },
 "nbformat": 4,
 "nbformat_minor": 2
}
